{
  "nbformat": 4,
  "nbformat_minor": 0,
  "metadata": {
    "colab": {
      "provenance": [],
      "collapsed_sections": [],
      "toc_visible": true,
      "mount_file_id": "1bslYAz5kSdbjxBr5EtOXz6lbOhhf3nii",
      "authorship_tag": "ABX9TyOusPA052Tj0cjxUfjSOQKo",
      "include_colab_link": true
    },
    "kernelspec": {
      "name": "python3",
      "display_name": "Python 3"
    },
    "language_info": {
      "name": "python"
    },
    "gpuClass": "standard"
  },
  "cells": [
    {
      "cell_type": "markdown",
      "metadata": {
        "id": "view-in-github",
        "colab_type": "text"
      },
      "source": [
        "<a href=\"https://colab.research.google.com/github/SaketMunda/mnist-digit-recognition/blob/master/recognise_handwritten_digits.ipynb\" target=\"_parent\"><img src=\"https://colab.research.google.com/assets/colab-badge.svg\" alt=\"Open In Colab\"/></a>"
      ]
    },
    {
      "cell_type": "markdown",
      "source": [
        "# Handwritten Digit Recognition\n",
        "\n",
        "Deep Learning model for Handwritten Digit Recognition using TensorFlow and Neural Network Techniques\n",
        "\n",
        "## 1. Problem Definition ⛑\n",
        "\n",
        "Recognise handwritten digit, from a dataset which contains B&W images of each digit written on 28x28 pixel box.\n",
        "\n",
        "## 2. Data \n",
        "\n",
        "The data we're using is officially provided by [The MNIST DATABASE](http://yann.lecun.com/exdb/mnist/)\n",
        "\n",
        "The digits have been sized-normalized and centered in a fixed-sized image.\n",
        "\n",
        "The data is quite preprocessed and well-formatted.\n",
        "\n",
        "## 3. Evaluation\n",
        "\n",
        "Accuracy should be above 90%.\n",
        "\n",
        "## 4. Features\n",
        "\n",
        "Some information about the data,\n",
        "* We're dealing with images(unstructured data) so it's probably best we use deep learning/transfer learning technique to solve this problem.\n",
        "* There are around a 60,000 examples of training set. \n",
        "* There are around a 10,000 examples of test set."
      ],
      "metadata": {
        "id": "O7o-vJCUoMr7"
      }
    },
    {
      "cell_type": "markdown",
      "source": [
        "## Get Workspace ready !\n",
        "\n",
        "* Import Tensorflow\n",
        "* Import standard libraries to be used in this experiment"
      ],
      "metadata": {
        "id": "oAfdV77pFsDI"
      }
    },
    {
      "cell_type": "code",
      "source": [
        "# import tensorflow\n",
        "import tensorflow as tf\n",
        "print(tf.__version__)"
      ],
      "metadata": {
        "id": "_BIXOY5lq_NE",
        "colab": {
          "base_uri": "https://localhost:8080/"
        },
        "outputId": "573eac32-fd96-4f3d-e181-79021a89d822"
      },
      "execution_count": 1,
      "outputs": [
        {
          "output_type": "stream",
          "name": "stdout",
          "text": [
            "2.9.2\n"
          ]
        }
      ]
    },
    {
      "cell_type": "code",
      "source": [
        "# standard helper libraries\n",
        "import pandas as pd\n",
        "import numpy as np\n",
        "import matplotlib.pyplot as plt"
      ],
      "metadata": {
        "id": "7Yern88eF5dX"
      },
      "execution_count": 2,
      "outputs": []
    },
    {
      "cell_type": "markdown",
      "source": [
        "## Getting our data ready\n",
        "\n",
        "The same MNIST dataset is also available in TensorFlow datasets. Thankfully it's splitted into training and test set which enable us to deep dive directly into exploring and visualizing the data.\n",
        "\n",
        "### Import the data\n",
        "\n",
        "Let's import the data using `tensorflow.keras.datasets` library"
      ],
      "metadata": {
        "id": "5BNIeOKtHem7"
      }
    },
    {
      "cell_type": "code",
      "source": [
        "from tensorflow.keras.datasets import mnist\n",
        "\n",
        "# The data is splitted into train and test set\n",
        "(train_data, train_labels), (test_data, test_labels) = mnist.load_data()"
      ],
      "metadata": {
        "id": "iKgbFwzSIyIW",
        "colab": {
          "base_uri": "https://localhost:8080/"
        },
        "outputId": "9b46bf21-4837-4278-d08b-7b154565819b"
      },
      "execution_count": 3,
      "outputs": [
        {
          "output_type": "stream",
          "name": "stdout",
          "text": [
            "Downloading data from https://storage.googleapis.com/tensorflow/tf-keras-datasets/mnist.npz\n",
            "11490434/11490434 [==============================] - 0s 0us/step\n"
          ]
        }
      ]
    },
    {
      "cell_type": "markdown",
      "source": [
        "### Explore the data\n",
        "\n",
        "Before going further and jumping directly to any step, exploring the data will help us to decide what are the things we need to do with our data,\n",
        "* Find outliers\n",
        "* If we need a preprocessing phase to uniform\n",
        "* Check the number of images and labels\n",
        "* Visualize some numbers"
      ],
      "metadata": {
        "id": "zzuSwdtsO9wM"
      }
    },
    {
      "cell_type": "code",
      "source": [
        "# Shapes of training samples\n",
        "train_data.shape, train_labels.shape"
      ],
      "metadata": {
        "colab": {
          "base_uri": "https://localhost:8080/"
        },
        "id": "OWBVWGDSPy74",
        "outputId": "04d0b815-adc3-4c33-dd03-a8a27095fbb7"
      },
      "execution_count": 4,
      "outputs": [
        {
          "output_type": "execute_result",
          "data": {
            "text/plain": [
              "((60000, 28, 28), (60000,))"
            ]
          },
          "metadata": {},
          "execution_count": 4
        }
      ]
    },
    {
      "cell_type": "code",
      "source": [
        "# Shapes of test samples\n",
        "test_data.shape, test_labels.shape"
      ],
      "metadata": {
        "colab": {
          "base_uri": "https://localhost:8080/"
        },
        "id": "ckmKtpRAQGPu",
        "outputId": "96a8d30b-76da-4e38-b536-9afff23676e4"
      },
      "execution_count": 5,
      "outputs": [
        {
          "output_type": "execute_result",
          "data": {
            "text/plain": [
              "((10000, 28, 28), (10000,))"
            ]
          },
          "metadata": {},
          "execution_count": 5
        }
      ]
    },
    {
      "cell_type": "markdown",
      "source": [
        "So we have,\n",
        "* 60000 samples in training data\n",
        "* 10000 samples in test data\n",
        "* input is 28 x 28 grayscale image."
      ],
      "metadata": {
        "id": "3Zx_bH8rL9mf"
      }
    },
    {
      "cell_type": "code",
      "source": [
        "# observing the data\n",
        "# train_data[0]\n",
        "# commented this to avoid scorlling"
      ],
      "metadata": {
        "id": "CmSIQNzwRcR5"
      },
      "execution_count": 6,
      "outputs": []
    },
    {
      "cell_type": "markdown",
      "source": [
        "It's in the form of numbers so hardly we can obtain anything by just viewing the numbers in this form, yes we can see that some indexes have 0 as value and in some it's a whole number.\n",
        "\n",
        "But we can plot these and see what these numbers tell."
      ],
      "metadata": {
        "id": "ywhJrDiAHbSh"
      }
    },
    {
      "cell_type": "markdown",
      "source": [
        "### Visualize the data\n",
        "\n",
        "We can plot it using matplotlib since the values that shown above are in the form of array of numbers which has shape (1, 28, 28) of single data."
      ],
      "metadata": {
        "id": "R4bM7yKER6eQ"
      }
    },
    {
      "cell_type": "code",
      "source": [
        "def display_image(data, label, index):\n",
        "  image = data[index].squeeze()\n",
        "  plt.title(f\"Index {index} Label: {label[index]}\")\n",
        "  plt.imshow(image)"
      ],
      "metadata": {
        "id": "Pi21HW7qSjuI"
      },
      "execution_count": 7,
      "outputs": []
    },
    {
      "cell_type": "code",
      "source": [
        "# see the training image and it's label\n",
        "display_image(train_data, train_labels, 4)"
      ],
      "metadata": {
        "colab": {
          "base_uri": "https://localhost:8080/",
          "height": 281
        },
        "id": "C-WJsfXGS8eT",
        "outputId": "5832d653-c539-4ba3-dd41-742d5823796f"
      },
      "execution_count": 8,
      "outputs": [
        {
          "output_type": "display_data",
          "data": {
            "text/plain": [
              "<Figure size 432x288 with 1 Axes>"
            ],
            "image/png": "[encoded data removed]"
          },
          "metadata": {
            "needs_background": "light"
          }
        }
      ]
    },
    {
      "cell_type": "code",
      "source": [
        "display_image(train_data, train_labels, 5)"
      ],
      "metadata": {
        "colab": {
          "base_uri": "https://localhost:8080/",
          "height": 281
        },
        "id": "JFK_osqLYf6g",
        "outputId": "7f754494-3b39-4fcc-c328-d8c2e40917af"
      },
      "execution_count": 9,
      "outputs": [
        {
          "output_type": "display_data",
          "data": {
            "text/plain": [
              "<Figure size 432x288 with 1 Axes>"
            ],
            "image/png": "[encoded data removed]"
          },
          "metadata": {
            "needs_background": "light"
          }
        }
      ]
    },
    {
      "cell_type": "markdown",
      "source": [
        "Let's identify how many labels we have in our training set and their corresponding images."
      ],
      "metadata": {
        "id": "oLuRjAvcY_9J"
      }
    },
    {
      "cell_type": "code",
      "source": [
        "train_label_counts = np.unique(train_labels, return_counts=True)\n",
        "train_label_df = pd.DataFrame({\"Label\": train_label_counts[0], \"Count\":train_label_counts[1]})\n",
        "train_label_df"
      ],
      "metadata": {
        "colab": {
          "base_uri": "https://localhost:8080/",
          "height": 363
        },
        "id": "dmQI4TJsZVdb",
        "outputId": "ffba00b0-5e84-4095-a8f3-c6ca51289a2e"
      },
      "execution_count": 10,
      "outputs": [
        {
          "output_type": "execute_result",
          "data": {
            "text/plain": [
              "   Label  Count\n",
              "0      0   5923\n",
              "1      1   6742\n",
              "2      2   5958\n",
              "3      3   6131\n",
              "4      4   5842\n",
              "5      5   5421\n",
              "6      6   5918\n",
              "7      7   6265\n",
              "8      8   5851\n",
              "9      9   5949"
            ],
            "text/html": [
              "\n",
              "  <div id=\"df-34746573-cdc5-4d75-a4e4-0f3ab9208c69\">\n",
              "    <div class=\"colab-df-container\">\n",
              "      <div>\n",
              "<style scoped>\n",
              "    .dataframe tbody tr th:only-of-type {\n",
              "        vertical-align: middle;\n",
              "    }\n",
              "\n",
              "    .dataframe tbody tr th {\n",
              "        vertical-align: top;\n",
              "    }\n",
              "\n",
              "    .dataframe thead th {\n",
              "        text-align: right;\n",
              "    }\n",
              "</style>\n",
              "<table border=\"1\" class=\"dataframe\">\n",
              "  <thead>\n",
              "    <tr style=\"text-align: right;\">\n",
              "      <th></th>\n",
              "      <th>Label</th>\n",
              "      <th>Count</th>\n",
              "    </tr>\n",
              "  </thead>\n",
              "  <tbody>\n",
              "    <tr>\n",
              "      <th>0</th>\n",
              "      <td>0</td>\n",
              "      <td>5923</td>\n",
              "    </tr>\n",
              "    <tr>\n",
              "      <th>1</th>\n",
              "      <td>1</td>\n",
              "      <td>6742</td>\n",
              "    </tr>\n",
              "    <tr>\n",
              "      <th>2</th>\n",
              "      <td>2</td>\n",
              "      <td>5958</td>\n",
              "    </tr>\n",
              "    <tr>\n",
              "      <th>3</th>\n",
              "      <td>3</td>\n",
              "      <td>6131</td>\n",
              "    </tr>\n",
              "    <tr>\n",
              "      <th>4</th>\n",
              "      <td>4</td>\n",
              "      <td>5842</td>\n",
              "    </tr>\n",
              "    <tr>\n",
              "      <th>5</th>\n",
              "      <td>5</td>\n",
              "      <td>5421</td>\n",
              "    </tr>\n",
              "    <tr>\n",
              "      <th>6</th>\n",
              "      <td>6</td>\n",
              "      <td>5918</td>\n",
              "    </tr>\n",
              "    <tr>\n",
              "      <th>7</th>\n",
              "      <td>7</td>\n",
              "      <td>6265</td>\n",
              "    </tr>\n",
              "    <tr>\n",
              "      <th>8</th>\n",
              "      <td>8</td>\n",
              "      <td>5851</td>\n",
              "    </tr>\n",
              "    <tr>\n",
              "      <th>9</th>\n",
              "      <td>9</td>\n",
              "      <td>5949</td>\n",
              "    </tr>\n",
              "  </tbody>\n",
              "</table>\n",
              "</div>\n",
              "      <button class=\"colab-df-convert\" onclick=\"convertToInteractive('df-34746573-cdc5-4d75-a4e4-0f3ab9208c69')\"\n",
              "              title=\"Convert this dataframe to an interactive table.\"\n",
              "              style=\"display:none;\">\n",
              "        \n",
              "  <svg xmlns=\"http://www.w3.org/2000/svg\" height=\"24px\"viewBox=\"0 0 24 24\"\n",
              "       width=\"24px\">\n",
              "    <path d=\"M0 0h24v24H0V0z\" fill=\"none\"/>\n",
              "    <path d=\"M18.56 5.44l.94 2.06.94-2.06 2.06-.94-2.06-.94-.94-2.06-.94 2.06-2.06.94zm-11 1L8.5 8.5l.94-2.06 2.06-.94-2.06-.94L8.5 2.5l-.94 2.06-2.06.94zm10 10l.94 2.06.94-2.06 2.06-.94-2.06-.94-.94-2.06-.94 2.06-2.06.94z\"/><path d=\"M17.41 7.96l-1.37-1.37c-.4-.4-.92-.59-1.43-.59-.52 0-1.04.2-1.43.59L10.3 9.45l-7.72 7.72c-.78.78-.78 2.05 0 2.83L4 21.41c.39.39.9.59 1.41.59.51 0 1.02-.2 1.41-.59l7.78-7.78 2.81-2.81c.8-.78.8-2.07 0-2.86zM5.41 20L4 18.59l7.72-7.72 1.47 1.35L5.41 20z\"/>\n",
              "  </svg>\n",
              "      </button>\n",
              "      \n",
              "  <style>\n",
              "    .colab-df-container {\n",
              "      display:flex;\n",
              "      flex-wrap:wrap;\n",
              "      gap: 12px;\n",
              "    }\n",
              "\n",
              "    .colab-df-convert {\n",
              "      background-color: #E8F0FE;\n",
              "      border: none;\n",
              "      border-radius: 50%;\n",
              "      cursor: pointer;\n",
              "      display: none;\n",
              "      fill: #1967D2;\n",
              "      height: 32px;\n",
              "      padding: 0 0 0 0;\n",
              "      width: 32px;\n",
              "    }\n",
              "\n",
              "    .colab-df-convert:hover {\n",
              "      background-color: #E2EBFA;\n",
              "      box-shadow: 0px 1px 2px rgba(60, 64, 67, 0.3), 0px 1px 3px 1px rgba(60, 64, 67, 0.15);\n",
              "      fill: #174EA6;\n",
              "    }\n",
              "\n",
              "    [theme=dark] .colab-df-convert {\n",
              "      background-color: #3B4455;\n",
              "      fill: #D2E3FC;\n",
              "    }\n",
              "\n",
              "    [theme=dark] .colab-df-convert:hover {\n",
              "      background-color: #434B5C;\n",
              "      box-shadow: 0px 1px 3px 1px rgba(0, 0, 0, 0.15);\n",
              "      filter: drop-shadow(0px 1px 2px rgba(0, 0, 0, 0.3));\n",
              "      fill: #FFFFFF;\n",
              "    }\n",
              "  </style>\n",
              "\n",
              "      <script>\n",
              "        const buttonEl =\n",
              "          document.querySelector('#df-34746573-cdc5-4d75-a4e4-0f3ab9208c69 button.colab-df-convert');\n",
              "        buttonEl.style.display =\n",
              "          google.colab.kernel.accessAllowed ? 'block' : 'none';\n",
              "\n",
              "        async function convertToInteractive(key) {\n",
              "          const element = document.querySelector('#df-34746573-cdc5-4d75-a4e4-0f3ab9208c69');\n",
              "          const dataTable =\n",
              "            await google.colab.kernel.invokeFunction('convertToInteractive',\n",
              "                                                     [key], {});\n",
              "          if (!dataTable) return;\n",
              "\n",
              "          const docLinkHtml = 'Like what you see? Visit the ' +\n",
              "            '<a target=\"_blank\" href=https://colab.research.google.com/notebooks/data_table.ipynb>data table notebook</a>'\n",
              "            + ' to learn more about interactive tables.';\n",
              "          element.innerHTML = '';\n",
              "          dataTable['output_type'] = 'display_data';\n",
              "          await google.colab.output.renderOutput(dataTable, element);\n",
              "          const docLink = document.createElement('div');\n",
              "          docLink.innerHTML = docLinkHtml;\n",
              "          element.appendChild(docLink);\n",
              "        }\n",
              "      </script>\n",
              "    </div>\n",
              "  </div>\n",
              "  "
            ]
          },
          "metadata": {},
          "execution_count": 10
        }
      ]
    },
    {
      "cell_type": "markdown",
      "source": [
        "It says, Digit `1` has 6742 samples, `2` has 5958, `3` has 6131 samples and so on... available in training dataset.\n",
        "\n",
        "So these are basically our classnames for multi-class classification problem."
      ],
      "metadata": {
        "id": "FVPzOuuQZcLC"
      }
    },
    {
      "cell_type": "code",
      "source": [
        "class_names = train_label_df[\"Label\"]"
      ],
      "metadata": {
        "id": "yzAYjSVJJ2TQ"
      },
      "execution_count": 11,
      "outputs": []
    },
    {
      "cell_type": "code",
      "source": [
        "class_names[1]"
      ],
      "metadata": {
        "colab": {
          "base_uri": "https://localhost:8080/"
        },
        "id": "fpxSbo-EKMps",
        "outputId": "5b9dd7fa-ae53-465a-ae5b-cdc51bcd9bd1"
      },
      "execution_count": 12,
      "outputs": [
        {
          "output_type": "execute_result",
          "data": {
            "text/plain": [
              "1"
            ]
          },
          "metadata": {},
          "execution_count": 12
        }
      ]
    },
    {
      "cell_type": "markdown",
      "source": [
        "Also by observing the data it looks like that it's already converted into numbers and it's ready to fit in into the model.\n",
        "\n",
        "\n",
        "### Split the data into 3 set (Training, Validation and Test)\n",
        "\n",
        "It's a good practice in order to build our model, we should split the samples into 3 sets, (Training, Validation and Test set).\n",
        "\n",
        "Since we already have the test set available, so we only need to divide the validation test which we split it from training samples.\n",
        "\n",
        "* Training Samples : (48K)\n",
        "* Validation Samples : (12K)\n",
        "* Test Samples : (10K)"
      ],
      "metadata": {
        "id": "AMXkrLoxanRW"
      }
    },
    {
      "cell_type": "code",
      "source": [
        "# importing train test split library from scikit-learn\n",
        "from sklearn.model_selection import train_test_split\n",
        "\n",
        "X_train, X_valid, y_train, y_valid = train_test_split(train_data, train_labels, test_size=0.2, random_state=17)"
      ],
      "metadata": {
        "id": "p1pynydlcKx_"
      },
      "execution_count": 13,
      "outputs": []
    },
    {
      "cell_type": "code",
      "source": [
        "# see the number of splitted data\n",
        "X_train.shape[0], X_valid.shape[0]"
      ],
      "metadata": {
        "colab": {
          "base_uri": "https://localhost:8080/"
        },
        "id": "2yhIfl4CcPYW",
        "outputId": "73280b59-298f-41a6-d12b-d63ea1161933"
      },
      "execution_count": 14,
      "outputs": [
        {
          "output_type": "execute_result",
          "data": {
            "text/plain": [
              "(48000, 12000)"
            ]
          },
          "metadata": {},
          "execution_count": 14
        }
      ]
    },
    {
      "cell_type": "markdown",
      "source": [
        "and now if we compare the lables in each set, after splitting"
      ],
      "metadata": {
        "id": "PCk4x0sXcrSR"
      }
    },
    {
      "cell_type": "code",
      "source": [
        "np.unique(y_train, return_counts=True), np.unique(y_valid, return_counts=True)"
      ],
      "metadata": {
        "colab": {
          "base_uri": "https://localhost:8080/"
        },
        "id": "6o8o-Cv-c-oc",
        "outputId": "d0d972af-2f4a-4d1e-dee7-f220b40afaa6"
      },
      "execution_count": 15,
      "outputs": [
        {
          "output_type": "execute_result",
          "data": {
            "text/plain": [
              "((array([0, 1, 2, 3, 4, 5, 6, 7, 8, 9], dtype=uint8),\n",
              "  array([4719, 5380, 4754, 4956, 4686, 4301, 4734, 5047, 4620, 4803])),\n",
              " (array([0, 1, 2, 3, 4, 5, 6, 7, 8, 9], dtype=uint8),\n",
              "  array([1204, 1362, 1204, 1175, 1156, 1120, 1184, 1218, 1231, 1146])))"
            ]
          },
          "metadata": {},
          "execution_count": 15
        }
      ]
    },
    {
      "cell_type": "markdown",
      "source": [
        "We have good amount of data to train our model and then validate it using validation set."
      ],
      "metadata": {
        "id": "O2pPfLlXLkf_"
      }
    },
    {
      "cell_type": "markdown",
      "source": [
        "## Modelling\n",
        "\n",
        "We're dealing with Multi-class classification problem, so we might need to take care of few things to build our neural network model,\n",
        "\n",
        "* **Creating a model**: piece together the layers of neural network(using the functional or Sequential API) or import a previously built model(known as transfer learning).\n",
        "  * **Input shape**: We will have to deal with 28 x 28 tensors (height and width of an image)\n",
        "  * **Output shape**: 10, since we have 10 `class_names`(*digits*) to identify\n",
        "  * **Input Activation function**: Since this is non-linear data, se we'll use non-linear activations like reLu, Softmax, Sigmoid\n",
        "  * **Output Activation function**: For classification problems, two common functions are Sigmoid and Softmax, since this is a multi-class so we should use *Softmax*\n",
        "    - **Softmax** : It converts all the output vector into probabilities that the sum of all the probabilities is equal to 1. Kind of argmax, but softer version.\n",
        "* **Compiling a model**: defining how a model's performance should be measured(loss/metrics) as well as defining how it should improve(optimizer).\n",
        "  * **Loss function**: We have to use **CategoricalCrossentropy** or **SparseCategoricalCrossentropy** for multi-class classification problem.\n",
        "    - We will use the later, i.e *SparseCategoricalCrossentropy* since the other one takes encoded inputs, and we are not `one_hot` encoding our training data.\n",
        "  * **Optimizer**: We can choose from SGD or Adam optimizer functions\n",
        "  * **Metrics**: For a classification problem, there are many metrics but by default let's see `accuracy`. How accurate our model is performing.\n",
        "* **Fitting a model**: Letting the model try to find patterns in the data\n",
        "\n",
        "Let's see how it'll go."
      ],
      "metadata": {
        "id": "fADcEmmRmx5O"
      }
    },
    {
      "cell_type": "markdown",
      "source": [
        "### Default Model"
      ],
      "metadata": {
        "id": "7_s3uxmbv3AX"
      }
    },
    {
      "cell_type": "code",
      "source": [
        "# set the random seed\n",
        "tf.random.set_seed(17)\n",
        "\n",
        "# 1. Create a model\n",
        "model_1 = tf.keras.Sequential([\n",
        "    tf.keras.layers.Flatten(input_shape=(28, 28)), # input shape define\n",
        "    tf.keras.layers.Dense(4, activation='relu'), # Hidden layer 1 with 4 neurons\n",
        "    tf.keras.layers.Dense(4, activation='relu'), # Hidden layer 2 with 4 neurons\n",
        "    tf.keras.layers.Dense(10, activation='softmax') # Output layer, since shape is 10 so 10 neurons.\n",
        "])\n",
        "\n",
        "# 2. Compiling a model\n",
        "model_1.compile(loss=tf.keras.losses.SparseCategoricalCrossentropy(),\n",
        "                optimizer=tf.keras.optimizers.Adam(),\n",
        "                metrics=['accuracy'])\n",
        "\n",
        "# 3. Fitting a model\n",
        "history_1 = model_1.fit(X_train, \n",
        "            y_train, \n",
        "            epochs = 20, \n",
        "            validation_data=(X_valid, y_valid))"
      ],
      "metadata": {
        "colab": {
          "base_uri": "https://localhost:8080/"
        },
        "id": "y7OojIOrO533",
        "outputId": "06ab79e3-a3d3-4cca-e2e7-9d2967d94b7b"
      },
      "execution_count": 16,
      "outputs": [
        {
          "output_type": "stream",
          "name": "stdout",
          "text": [
            "Epoch 1/20\n",
            "1500/1500 [==============================] - 4s 2ms/step - loss: 2.3384 - accuracy: 0.1562 - val_loss: 1.9453 - val_accuracy: 0.2059\n",
            "Epoch 2/20\n",
            "1500/1500 [==============================] - 2s 1ms/step - loss: 1.8860 - accuracy: 0.2173 - val_loss: 1.8386 - val_accuracy: 0.2477\n",
            "Epoch 3/20\n",
            "1500/1500 [==============================] - 2s 1ms/step - loss: 1.7600 - accuracy: 0.2725 - val_loss: 1.6868 - val_accuracy: 0.2825\n",
            "Epoch 4/20\n",
            "1500/1500 [==============================] - 2s 1ms/step - loss: 1.6135 - accuracy: 0.3251 - val_loss: 1.5253 - val_accuracy: 0.3722\n",
            "Epoch 5/20\n",
            "1500/1500 [==============================] - 2s 1ms/step - loss: 1.4784 - accuracy: 0.4133 - val_loss: 1.4424 - val_accuracy: 0.4397\n",
            "Epoch 6/20\n",
            "1500/1500 [==============================] - 2s 1ms/step - loss: 1.4167 - accuracy: 0.4407 - val_loss: 1.3916 - val_accuracy: 0.4448\n",
            "Epoch 7/20\n",
            "1500/1500 [==============================] - 2s 1ms/step - loss: 1.3721 - accuracy: 0.4601 - val_loss: 1.3720 - val_accuracy: 0.4658\n",
            "Epoch 8/20\n",
            "1500/1500 [==============================] - 2s 1ms/step - loss: 1.3425 - accuracy: 0.4754 - val_loss: 1.3312 - val_accuracy: 0.4863\n",
            "Epoch 9/20\n",
            "1500/1500 [==============================] - 2s 1ms/step - loss: 1.2969 - accuracy: 0.4995 - val_loss: 1.2765 - val_accuracy: 0.5252\n",
            "Epoch 10/20\n",
            "1500/1500 [==============================] - 2s 1ms/step - loss: 1.2533 - accuracy: 0.5306 - val_loss: 1.2365 - val_accuracy: 0.5460\n",
            "Epoch 11/20\n",
            "1500/1500 [==============================] - 2s 1ms/step - loss: 1.2093 - accuracy: 0.5590 - val_loss: 1.2066 - val_accuracy: 0.5779\n",
            "Epoch 12/20\n",
            "1500/1500 [==============================] - 2s 1ms/step - loss: 1.1694 - accuracy: 0.5823 - val_loss: 1.1780 - val_accuracy: 0.5823\n",
            "Epoch 13/20\n",
            "1500/1500 [==============================] - 2s 1ms/step - loss: 1.1281 - accuracy: 0.6071 - val_loss: 1.1206 - val_accuracy: 0.6267\n",
            "Epoch 14/20\n",
            "1500/1500 [==============================] - 2s 1ms/step - loss: 1.0986 - accuracy: 0.6305 - val_loss: 1.1200 - val_accuracy: 0.6388\n",
            "Epoch 15/20\n",
            "1500/1500 [==============================] - 2s 1ms/step - loss: 1.0876 - accuracy: 0.6413 - val_loss: 1.0836 - val_accuracy: 0.6472\n",
            "Epoch 16/20\n",
            "1500/1500 [==============================] - 2s 1ms/step - loss: 1.0664 - accuracy: 0.6527 - val_loss: 1.0932 - val_accuracy: 0.6527\n",
            "Epoch 17/20\n",
            "1500/1500 [==============================] - 2s 1ms/step - loss: 1.0562 - accuracy: 0.6570 - val_loss: 1.0657 - val_accuracy: 0.6524\n",
            "Epoch 18/20\n",
            "1500/1500 [==============================] - 2s 1ms/step - loss: 1.0517 - accuracy: 0.6582 - val_loss: 1.1165 - val_accuracy: 0.6271\n",
            "Epoch 19/20\n",
            "1500/1500 [==============================] - 2s 1ms/step - loss: 1.0455 - accuracy: 0.6596 - val_loss: 1.0473 - val_accuracy: 0.6668\n",
            "Epoch 20/20\n",
            "1500/1500 [==============================] - 2s 1ms/step - loss: 1.0410 - accuracy: 0.6630 - val_loss: 1.0768 - val_accuracy: 0.6571\n"
          ]
        }
      ]
    },
    {
      "cell_type": "markdown",
      "source": [
        "Accuracy on training samples is **66%** and loss is fairly low. But we still need to improve our model to get better `accuracy`.\n",
        "\n",
        "One more thing we might notice here, `val_accuracy`, these appears in the process of fitting our model, because we passed a parameter i.e `validation_data`.\n",
        "\n",
        "It gives us the idea of how the model performs on validation set during training the model, it gives us the `val_loss` and `val_accuracy`"
      ],
      "metadata": {
        "id": "1gRc_SLzdtqX"
      }
    },
    {
      "cell_type": "markdown",
      "source": [
        "Anyways let's improve our model."
      ],
      "metadata": {
        "id": "2IvThJjVd-1R"
      }
    },
    {
      "cell_type": "markdown",
      "source": [
        "## Tuning our Model\n",
        "\n",
        "A model can tuned/improved in many ways but some common ways we can pass through will be,\n",
        "* Visualize our inputs, *if normalization needed then normalize it*\n",
        "* *Adjust the layers and activation function*\n",
        "* *Tweak optimizer and it's learning rate*\n",
        "* and Many more.."
      ],
      "metadata": {
        "id": "6Be6_N-zfRht"
      }
    },
    {
      "cell_type": "markdown",
      "source": [
        "### Normalize our inputs\n",
        "\n",
        "> Why do we need to normalize our inputs ?\n",
        "\n",
        "So if we plot the distribution of our inputs, it ranges from 0~255 which is ideally not good for machines to learn the patterns from this spread of distribution."
      ],
      "metadata": {
        "id": "UUSv-dEifvSH"
      }
    },
    {
      "cell_type": "code",
      "source": [
        "X_train.min(), X_train.max()"
      ],
      "metadata": {
        "colab": {
          "base_uri": "https://localhost:8080/"
        },
        "id": "oCB78dAmPew0",
        "outputId": "5b59dd86-f634-4326-8260-859340b1c328"
      },
      "execution_count": 19,
      "outputs": [
        {
          "output_type": "execute_result",
          "data": {
            "text/plain": [
              "(0, 255)"
            ]
          },
          "metadata": {},
          "execution_count": 19
        }
      ]
    },
    {
      "cell_type": "code",
      "source": [
        "X_valid.min(), X_valid.max()"
      ],
      "metadata": {
        "colab": {
          "base_uri": "https://localhost:8080/"
        },
        "id": "lA_9QGtbPjoI",
        "outputId": "8274dc90-4cff-4d84-cc57-29360bd7224d"
      },
      "execution_count": 20,
      "outputs": [
        {
          "output_type": "execute_result",
          "data": {
            "text/plain": [
              "(0, 255)"
            ]
          },
          "metadata": {},
          "execution_count": 20
        }
      ]
    },
    {
      "cell_type": "markdown",
      "source": [
        "So when we apply normalization, we shrink that spread between 0~1. In our case, if we want to do this we can simply divide all the data with our maximum number i.e 255.\n"
      ],
      "metadata": {
        "id": "btxnoQM8Prd-"
      }
    },
    {
      "cell_type": "code",
      "source": [
        "# let's normalize our training and valid data\n",
        "X_train_norm = X_train / X_train.max()\n",
        "X_valid_norm = X_valid / X_valid.max()"
      ],
      "metadata": {
        "id": "o-3Y0O_XP8D5"
      },
      "execution_count": 22,
      "outputs": []
    },
    {
      "cell_type": "code",
      "source": [
        "# Also let us normalize test data\n",
        "test_data_norm = test_data / test_data.max()"
      ],
      "metadata": {
        "id": "iSCvhuQTQJ-g"
      },
      "execution_count": 23,
      "outputs": []
    },
    {
      "cell_type": "code",
      "source": [
        "# View the normalize data\n",
        "X_train_norm[0]"
      ],
      "metadata": {
        "colab": {
          "base_uri": "https://localhost:8080/"
        },
        "id": "FZ9DaWFQQWr5",
        "outputId": "5eb77d87-d976-4cf6-d414-a7933d55684e"
      },
      "execution_count": 24,
      "outputs": [
        {
          "output_type": "execute_result",
          "data": {
            "text/plain": [
              "array([[0.        , 0.        , 0.        , 0.        , 0.        ,\n",
              "        0.        , 0.        , 0.        , 0.        , 0.        ,\n",
              "        0.        , 0.        , 0.        , 0.        , 0.        ,\n",
              "        0.        , 0.        , 0.        , 0.        , 0.        ,\n",
              "        0.        , 0.        , 0.        , 0.        , 0.        ,\n",
              "        0.        , 0.        , 0.        ],\n",
              "       [0.        , 0.        , 0.        , 0.        , 0.        ,\n",
              "        0.        , 0.        , 0.        , 0.        , 0.        ,\n",
              "        0.        , 0.        , 0.        , 0.        , 0.        ,\n",
              "        0.        , 0.        , 0.        , 0.        , 0.        ,\n",
              "        0.        , 0.        , 0.        , 0.        , 0.        ,\n",
              "        0.        , 0.        , 0.        ],\n",
              "       [0.        , 0.        , 0.        , 0.        , 0.        ,\n",
              "        0.        , 0.        , 0.        , 0.        , 0.        ,\n",
              "        0.        , 0.        , 0.        , 0.03137255, 0.30588235,\n",
              "        0.58039216, 0.68235294, 0.81960784, 0.75686275, 0.14509804,\n",
              "        0.        , 0.        , 0.        , 0.        , 0.        ,\n",
              "        0.        , 0.        , 0.        ],\n",
              "       [0.        , 0.        , 0.        , 0.        , 0.        ,\n",
              "        0.        , 0.        , 0.        , 0.        , 0.        ,\n",
              "        0.        , 0.        , 0.        , 0.44705882, 0.98823529,\n",
              "        0.98823529, 0.98823529, 0.98823529, 0.99215686, 0.66666667,\n",
              "        0.02745098, 0.        , 0.        , 0.        , 0.        ,\n",
              "        0.        , 0.        , 0.        ],\n",
              "       [0.        , 0.        , 0.        , 0.        , 0.        ,\n",
              "        0.        , 0.        , 0.        , 0.        , 0.        ,\n",
              "        0.        , 0.        , 0.38431373, 0.90980392, 0.80392157,\n",
              "        0.69803922, 0.21960784, 0.25490196, 0.99215686, 0.98823529,\n",
              "        0.4627451 , 0.        , 0.        , 0.        , 0.        ,\n",
              "        0.        , 0.        , 0.        ],\n",
              "       [0.        , 0.        , 0.        , 0.        , 0.        ,\n",
              "        0.        , 0.        , 0.        , 0.        , 0.        ,\n",
              "        0.        , 0.        , 0.41568627, 0.54901961, 0.        ,\n",
              "        0.        , 0.        , 0.        , 0.61176471, 0.98823529,\n",
              "        0.76862745, 0.        , 0.        , 0.        , 0.        ,\n",
              "        0.        , 0.        , 0.        ],\n",
              "       [0.        , 0.        , 0.        , 0.        , 0.        ,\n",
              "        0.        , 0.        , 0.        , 0.        , 0.        ,\n",
              "        0.        , 0.        , 0.07058824, 0.07058824, 0.        ,\n",
              "        0.        , 0.        , 0.        , 0.09803922, 0.88627451,\n",
              "        0.97647059, 0.2745098 , 0.        , 0.        , 0.        ,\n",
              "        0.        , 0.        , 0.        ],\n",
              "       [0.        , 0.        , 0.        , 0.        , 0.        ,\n",
              "        0.        , 0.        , 0.        , 0.        , 0.        ,\n",
              "        0.        , 0.        , 0.        , 0.        , 0.        ,\n",
              "        0.        , 0.        , 0.        , 0.        , 0.74901961,\n",
              "        0.99215686, 0.32941176, 0.        , 0.        , 0.        ,\n",
              "        0.        , 0.        , 0.        ],\n",
              "       [0.        , 0.        , 0.        , 0.        , 0.        ,\n",
              "        0.        , 0.        , 0.        , 0.        , 0.        ,\n",
              "        0.        , 0.        , 0.        , 0.        , 0.        ,\n",
              "        0.        , 0.        , 0.        , 0.        , 0.74509804,\n",
              "        0.98823529, 0.32941176, 0.        , 0.        , 0.        ,\n",
              "        0.        , 0.        , 0.        ],\n",
              "       [0.        , 0.        , 0.        , 0.        , 0.        ,\n",
              "        0.        , 0.        , 0.        , 0.        , 0.        ,\n",
              "        0.        , 0.        , 0.        , 0.        , 0.        ,\n",
              "        0.        , 0.        , 0.        , 0.        , 0.74509804,\n",
              "        0.98823529, 0.32941176, 0.        , 0.        , 0.        ,\n",
              "        0.        , 0.        , 0.        ],\n",
              "       [0.        , 0.        , 0.        , 0.        , 0.        ,\n",
              "        0.        , 0.        , 0.        , 0.        , 0.        ,\n",
              "        0.        , 0.        , 0.        , 0.        , 0.        ,\n",
              "        0.        , 0.        , 0.        , 0.        , 0.74509804,\n",
              "        0.98823529, 0.32941176, 0.        , 0.        , 0.        ,\n",
              "        0.        , 0.        , 0.        ],\n",
              "       [0.        , 0.        , 0.        , 0.        , 0.        ,\n",
              "        0.        , 0.        , 0.        , 0.        , 0.        ,\n",
              "        0.        , 0.        , 0.        , 0.        , 0.        ,\n",
              "        0.        , 0.        , 0.        , 0.14117647, 0.94901961,\n",
              "        0.95686275, 0.19215686, 0.        , 0.        , 0.        ,\n",
              "        0.        , 0.        , 0.        ],\n",
              "       [0.        , 0.        , 0.        , 0.        , 0.        ,\n",
              "        0.        , 0.        , 0.        , 0.        , 0.        ,\n",
              "        0.        , 0.        , 0.        , 0.        , 0.        ,\n",
              "        0.        , 0.        , 0.        , 0.82352941, 0.99215686,\n",
              "        0.66666667, 0.        , 0.        , 0.        , 0.        ,\n",
              "        0.        , 0.        , 0.        ],\n",
              "       [0.        , 0.        , 0.        , 0.        , 0.        ,\n",
              "        0.        , 0.        , 0.        , 0.        , 0.        ,\n",
              "        0.        , 0.        , 0.        , 0.        , 0.        ,\n",
              "        0.        , 0.        , 0.14117647, 0.99215686, 0.98823529,\n",
              "        0.35686275, 0.        , 0.        , 0.        , 0.        ,\n",
              "        0.        , 0.        , 0.        ],\n",
              "       [0.        , 0.        , 0.        , 0.        , 0.        ,\n",
              "        0.        , 0.        , 0.03529412, 0.08627451, 0.08627451,\n",
              "        0.08627451, 0.0627451 , 0.        , 0.        , 0.        ,\n",
              "        0.        , 0.16078431, 0.8745098 , 0.99215686, 0.78823529,\n",
              "        0.04313725, 0.        , 0.        , 0.        , 0.        ,\n",
              "        0.        , 0.        , 0.        ],\n",
              "       [0.        , 0.        , 0.        , 0.        , 0.        ,\n",
              "        0.02352941, 0.35686275, 0.8       , 0.99215686, 0.98823529,\n",
              "        0.98823529, 0.90588235, 0.49411765, 0.        , 0.        ,\n",
              "        0.16078431, 0.88235294, 0.98823529, 0.95294118, 0.18431373,\n",
              "        0.        , 0.        , 0.        , 0.        , 0.        ,\n",
              "        0.        , 0.        , 0.        ],\n",
              "       [0.        , 0.        , 0.        , 0.        , 0.14117647,\n",
              "        0.80784314, 0.98823529, 0.98823529, 0.74901961, 0.57647059,\n",
              "        0.95686275, 0.98823529, 0.98823529, 0.76078431, 0.41568627,\n",
              "        0.8745098 , 0.98823529, 0.98823529, 0.1372549 , 0.        ,\n",
              "        0.        , 0.        , 0.        , 0.        , 0.        ,\n",
              "        0.        , 0.        , 0.        ],\n",
              "       [0.        , 0.        , 0.        , 0.        , 0.74901961,\n",
              "        0.99215686, 0.84705882, 0.24313725, 0.        , 0.        ,\n",
              "        0.03529412, 0.55686275, 0.99215686, 1.        , 0.99215686,\n",
              "        0.99215686, 0.78039216, 0.07058824, 0.        , 0.        ,\n",
              "        0.        , 0.        , 0.        , 0.        , 0.        ,\n",
              "        0.        , 0.        , 0.        ],\n",
              "       [0.        , 0.        , 0.        , 0.        , 0.74509804,\n",
              "        0.96078431, 0.32156863, 0.        , 0.        , 0.        ,\n",
              "        0.16862745, 0.49803922, 0.98823529, 0.99215686, 0.98823529,\n",
              "        0.95686275, 0.19215686, 0.        , 0.        , 0.        ,\n",
              "        0.        , 0.        , 0.        , 0.        , 0.        ,\n",
              "        0.        , 0.        , 0.        ],\n",
              "       [0.        , 0.        , 0.        , 0.        , 0.74509804,\n",
              "        0.94901961, 0.49803922, 0.49803922, 0.50196078, 0.63529412,\n",
              "        0.94901961, 0.98823529, 0.98823529, 0.9254902 , 0.98823529,\n",
              "        0.98823529, 0.83137255, 0.49803922, 0.74117647, 0.6       ,\n",
              "        0.04313725, 0.        , 0.        , 0.        , 0.        ,\n",
              "        0.        , 0.        , 0.        ],\n",
              "       [0.        , 0.        , 0.        , 0.        , 0.63921569,\n",
              "        0.98823529, 0.98823529, 0.98823529, 0.99215686, 0.98823529,\n",
              "        0.98823529, 0.71764706, 0.32941176, 0.05490196, 0.63921569,\n",
              "        0.96862745, 0.98823529, 0.98823529, 0.95294118, 0.6       ,\n",
              "        0.02745098, 0.        , 0.        , 0.        , 0.        ,\n",
              "        0.        , 0.        , 0.        ],\n",
              "       [0.        , 0.        , 0.        , 0.        , 0.05490196,\n",
              "        0.57647059, 0.98823529, 0.81568627, 0.57647059, 0.43921569,\n",
              "        0.16470588, 0.05490196, 0.        , 0.        , 0.        ,\n",
              "        0.14901961, 0.44313725, 0.57647059, 0.1372549 , 0.        ,\n",
              "        0.        , 0.        , 0.        , 0.        , 0.        ,\n",
              "        0.        , 0.        , 0.        ],\n",
              "       [0.        , 0.        , 0.        , 0.        , 0.        ,\n",
              "        0.        , 0.        , 0.        , 0.        , 0.        ,\n",
              "        0.        , 0.        , 0.        , 0.        , 0.        ,\n",
              "        0.        , 0.        , 0.        , 0.        , 0.        ,\n",
              "        0.        , 0.        , 0.        , 0.        , 0.        ,\n",
              "        0.        , 0.        , 0.        ],\n",
              "       [0.        , 0.        , 0.        , 0.        , 0.        ,\n",
              "        0.        , 0.        , 0.        , 0.        , 0.        ,\n",
              "        0.        , 0.        , 0.        , 0.        , 0.        ,\n",
              "        0.        , 0.        , 0.        , 0.        , 0.        ,\n",
              "        0.        , 0.        , 0.        , 0.        , 0.        ,\n",
              "        0.        , 0.        , 0.        ],\n",
              "       [0.        , 0.        , 0.        , 0.        , 0.        ,\n",
              "        0.        , 0.        , 0.        , 0.        , 0.        ,\n",
              "        0.        , 0.        , 0.        , 0.        , 0.        ,\n",
              "        0.        , 0.        , 0.        , 0.        , 0.        ,\n",
              "        0.        , 0.        , 0.        , 0.        , 0.        ,\n",
              "        0.        , 0.        , 0.        ],\n",
              "       [0.        , 0.        , 0.        , 0.        , 0.        ,\n",
              "        0.        , 0.        , 0.        , 0.        , 0.        ,\n",
              "        0.        , 0.        , 0.        , 0.        , 0.        ,\n",
              "        0.        , 0.        , 0.        , 0.        , 0.        ,\n",
              "        0.        , 0.        , 0.        , 0.        , 0.        ,\n",
              "        0.        , 0.        , 0.        ],\n",
              "       [0.        , 0.        , 0.        , 0.        , 0.        ,\n",
              "        0.        , 0.        , 0.        , 0.        , 0.        ,\n",
              "        0.        , 0.        , 0.        , 0.        , 0.        ,\n",
              "        0.        , 0.        , 0.        , 0.        , 0.        ,\n",
              "        0.        , 0.        , 0.        , 0.        , 0.        ,\n",
              "        0.        , 0.        , 0.        ],\n",
              "       [0.        , 0.        , 0.        , 0.        , 0.        ,\n",
              "        0.        , 0.        , 0.        , 0.        , 0.        ,\n",
              "        0.        , 0.        , 0.        , 0.        , 0.        ,\n",
              "        0.        , 0.        , 0.        , 0.        , 0.        ,\n",
              "        0.        , 0.        , 0.        , 0.        , 0.        ,\n",
              "        0.        , 0.        , 0.        ]])"
            ]
          },
          "metadata": {},
          "execution_count": 24
        }
      ]
    },
    {
      "cell_type": "code",
      "source": [
        "# and if we see the normalize max and min\n",
        "tf.reduce_min(X_train_norm), tf.reduce_max(X_train_norm)"
      ],
      "metadata": {
        "colab": {
          "base_uri": "https://localhost:8080/"
        },
        "id": "suqo5W4aQa9-",
        "outputId": "291ef75c-5999-41f9-cc6c-8a962c41e278"
      },
      "execution_count": 25,
      "outputs": [
        {
          "output_type": "execute_result",
          "data": {
            "text/plain": [
              "(<tf.Tensor: shape=(), dtype=float64, numpy=0.0>,\n",
              " <tf.Tensor: shape=(), dtype=float64, numpy=1.0>)"
            ]
          },
          "metadata": {},
          "execution_count": 25
        }
      ]
    },
    {
      "cell_type": "markdown",
      "source": [
        "Let's build our model again with normalized data"
      ],
      "metadata": {
        "id": "4aiflRzKQlp5"
      }
    },
    {
      "cell_type": "code",
      "source": [
        "# set the random seed\n",
        "tf.random.set_seed(17)\n",
        "\n",
        "# Create a model\n",
        "model_2 = tf.keras.Sequential([\n",
        "    tf.keras.layers.Flatten(input_shape=(28,28)),\n",
        "    tf.keras.layers.Dense(4, activation='relu'),\n",
        "    tf.keras.layers.Dense(4, activation='relu'),\n",
        "    tf.keras.layers.Dense(10, activation='softmax')\n",
        "])\n",
        "\n",
        "# Compile a model\n",
        "model_2.compile(loss='sparse_categorical_crossentropy',  # we can write in this form as well\n",
        "                optimizer='Adam',\n",
        "                metrics=['accuracy'])\n",
        "\n",
        "# Fit our model\n",
        "history_2 = model_2.fit(X_train_norm,\n",
        "                        y_train,\n",
        "                        epochs = 20,\n",
        "                        validation_data=(X_valid_norm, y_valid))"
      ],
      "metadata": {
        "colab": {
          "base_uri": "https://localhost:8080/"
        },
        "id": "DVCKlOMpQtWC",
        "outputId": "92ddd6e4-0522-4fa2-b449-bcace8179303"
      },
      "execution_count": 26,
      "outputs": [
        {
          "output_type": "stream",
          "name": "stdout",
          "text": [
            "Epoch 1/20\n",
            "1500/1500 [==============================] - 3s 1ms/step - loss: 1.4868 - accuracy: 0.4670 - val_loss: 0.9892 - val_accuracy: 0.7036\n",
            "Epoch 2/20\n",
            "1500/1500 [==============================] - 2s 1ms/step - loss: 0.8228 - accuracy: 0.7546 - val_loss: 0.7323 - val_accuracy: 0.7837\n",
            "Epoch 3/20\n",
            "1500/1500 [==============================] - 2s 1ms/step - loss: 0.7065 - accuracy: 0.7875 - val_loss: 0.6910 - val_accuracy: 0.7921\n",
            "Epoch 4/20\n",
            "1500/1500 [==============================] - 2s 1ms/step - loss: 0.6661 - accuracy: 0.8008 - val_loss: 0.6584 - val_accuracy: 0.8046\n",
            "Epoch 5/20\n",
            "1500/1500 [==============================] - 2s 1ms/step - loss: 0.6395 - accuracy: 0.8078 - val_loss: 0.6314 - val_accuracy: 0.8148\n",
            "Epoch 6/20\n",
            "1500/1500 [==============================] - 2s 1ms/step - loss: 0.6170 - accuracy: 0.8138 - val_loss: 0.6209 - val_accuracy: 0.8179\n",
            "Epoch 7/20\n",
            "1500/1500 [==============================] - 2s 1ms/step - loss: 0.5966 - accuracy: 0.8207 - val_loss: 0.5997 - val_accuracy: 0.8263\n",
            "Epoch 8/20\n",
            "1500/1500 [==============================] - 2s 1ms/step - loss: 0.5748 - accuracy: 0.8284 - val_loss: 0.5784 - val_accuracy: 0.8324\n",
            "Epoch 9/20\n",
            "1500/1500 [==============================] - 2s 1ms/step - loss: 0.5508 - accuracy: 0.8375 - val_loss: 0.5514 - val_accuracy: 0.8428\n",
            "Epoch 10/20\n",
            "1500/1500 [==============================] - 2s 1ms/step - loss: 0.5328 - accuracy: 0.8447 - val_loss: 0.5572 - val_accuracy: 0.8393\n",
            "Epoch 11/20\n",
            "1500/1500 [==============================] - 2s 1ms/step - loss: 0.5171 - accuracy: 0.8501 - val_loss: 0.5492 - val_accuracy: 0.8397\n",
            "Epoch 12/20\n",
            "1500/1500 [==============================] - 2s 1ms/step - loss: 0.5050 - accuracy: 0.8527 - val_loss: 0.5250 - val_accuracy: 0.8535\n",
            "Epoch 13/20\n",
            "1500/1500 [==============================] - 3s 2ms/step - loss: 0.4960 - accuracy: 0.8553 - val_loss: 0.5109 - val_accuracy: 0.8581\n",
            "Epoch 14/20\n",
            "1500/1500 [==============================] - 2s 1ms/step - loss: 0.4881 - accuracy: 0.8581 - val_loss: 0.5120 - val_accuracy: 0.8520\n",
            "Epoch 15/20\n",
            "1500/1500 [==============================] - 2s 2ms/step - loss: 0.4796 - accuracy: 0.8612 - val_loss: 0.5043 - val_accuracy: 0.8590\n",
            "Epoch 16/20\n",
            "1500/1500 [==============================] - 2s 1ms/step - loss: 0.4741 - accuracy: 0.8629 - val_loss: 0.4922 - val_accuracy: 0.8635\n",
            "Epoch 17/20\n",
            "1500/1500 [==============================] - 2s 1ms/step - loss: 0.4680 - accuracy: 0.8660 - val_loss: 0.4884 - val_accuracy: 0.8635\n",
            "Epoch 18/20\n",
            "1500/1500 [==============================] - 2s 1ms/step - loss: 0.4628 - accuracy: 0.8668 - val_loss: 0.4912 - val_accuracy: 0.8633\n",
            "Epoch 19/20\n",
            "1500/1500 [==============================] - 2s 1ms/step - loss: 0.4587 - accuracy: 0.8689 - val_loss: 0.4883 - val_accuracy: 0.8601\n",
            "Epoch 20/20\n",
            "1500/1500 [==============================] - 2s 1ms/step - loss: 0.4544 - accuracy: 0.8694 - val_loss: 0.4919 - val_accuracy: 0.8602\n"
          ]
        }
      ]
    },
    {
      "cell_type": "markdown",
      "source": [
        "We have increased our Accuracy of `model_1` of **66%** to **86%** of `model_2`, just by normalizing out data. That's not Bad.\n",
        "\n",
        "What else we can do to tune our model ?\n",
        "\n",
        "We can tweak our optimization function.\n",
        "\n",
        "We have options like SGD(), Adam and many more optimizer functions, but according to the studies it's found that Adam performs fairly good and cover almost every kind of problem. \n",
        "\n",
        "So why trying every other optimization functions, if we can try tweaking some parameters with their different values of one function i.e **Adam()**.\n",
        "\n",
        "There's a very crucial parameter called, `learning_rate`, in Adam. It means, how fast the model learn and optimizer function helps it to optimize the learning capabilities.\n",
        "\n",
        "How about we find the ideal learning rate and see what happens ?"
      ],
      "metadata": {
        "id": "x4GVwYc8Re3p"
      }
    },
    {
      "cell_type": "markdown",
      "source": [
        "### Finding the Ideal learning rate ?\n",
        "\n",
        "We'll use the same architecture we've been using.\n",
        "\n",
        "We need to create a callback i.e [LearningRateScheduler](https://www.tensorflow.org/api_docs/python/tf/keras/callbacks/LearningRateScheduler) which takes the current learning rate as the input and returns the next learning rate at the beginning of every epochs."
      ],
      "metadata": {
        "id": "vBtSQ4gkSgDq"
      }
    },
    {
      "cell_type": "code",
      "source": [
        "# set the random seed\n",
        "tf.random.set_seed(17)\n",
        "\n",
        "# Create a model\n",
        "model_3 = tf.keras.Sequential([\n",
        "    tf.keras.layers.Flatten(input_shape=(28,28)),\n",
        "    tf.keras.layers.Dense(4, activation='relu'),\n",
        "    tf.keras.layers.Dense(4, activation='relu'),\n",
        "    tf.keras.layers.Dense(10, activation='softmax')\n",
        "])\n",
        "\n",
        "# Compile a model\n",
        "model_3.compile(loss='sparse_categorical_crossentropy',\n",
        "                optimizer=tf.keras.optimizers.Adam(),\n",
        "                metrics=['accuracy'])\n",
        "\n",
        "# Create a learning rate callback\n",
        "lr_schedular = tf.keras.callbacks.LearningRateScheduler(lambda epoch: 1e-4 * 10**(epoch/20))\n",
        "\n",
        "# Fit the model\n",
        "history_3 = model_3.fit(X_train_norm,\n",
        "                        y_train,\n",
        "                        epochs=80,\n",
        "                        validation_data=(X_valid_norm, y_valid),\n",
        "                        callbacks=[lr_schedular])"
      ],
      "metadata": {
        "colab": {
          "base_uri": "https://localhost:8080/"
        },
        "id": "cOC2T5PaTnXw",
        "outputId": "2948901d-a2d7-473a-a62b-e6d310bcddf6"
      },
      "execution_count": 29,
      "outputs": [
        {
          "output_type": "stream",
          "name": "stdout",
          "text": [
            "Epoch 1/80\n",
            "1500/1500 [==============================] - 3s 2ms/step - loss: 2.1666 - accuracy: 0.2242 - val_loss: 2.0271 - val_accuracy: 0.3038 - lr: 1.0000e-04\n",
            "Epoch 2/80\n",
            "1500/1500 [==============================] - 2s 1ms/step - loss: 1.9224 - accuracy: 0.3338 - val_loss: 1.8221 - val_accuracy: 0.3707 - lr: 1.1220e-04\n",
            "Epoch 3/80\n",
            "1500/1500 [==============================] - 2s 1ms/step - loss: 1.7257 - accuracy: 0.3834 - val_loss: 1.6241 - val_accuracy: 0.3954 - lr: 1.2589e-04\n",
            "Epoch 4/80\n",
            "1500/1500 [==============================] - 2s 1ms/step - loss: 1.5457 - accuracy: 0.4195 - val_loss: 1.4718 - val_accuracy: 0.4412 - lr: 1.4125e-04\n",
            "Epoch 5/80\n",
            "1500/1500 [==============================] - 2s 1ms/step - loss: 1.4052 - accuracy: 0.4860 - val_loss: 1.3378 - val_accuracy: 0.5257 - lr: 1.5849e-04\n",
            "Epoch 6/80\n",
            "1500/1500 [==============================] - 2s 2ms/step - loss: 1.2692 - accuracy: 0.5670 - val_loss: 1.2051 - val_accuracy: 0.5957 - lr: 1.7783e-04\n",
            "Epoch 7/80\n",
            "1500/1500 [==============================] - 2s 1ms/step - loss: 1.1522 - accuracy: 0.6331 - val_loss: 1.1031 - val_accuracy: 0.6571 - lr: 1.9953e-04\n",
            "Epoch 8/80\n",
            "1500/1500 [==============================] - 2s 1ms/step - loss: 1.0710 - accuracy: 0.6733 - val_loss: 1.0368 - val_accuracy: 0.6888 - lr: 2.2387e-04\n",
            "Epoch 9/80\n",
            "1500/1500 [==============================] - 2s 1ms/step - loss: 1.0154 - accuracy: 0.6960 - val_loss: 0.9912 - val_accuracy: 0.7078 - lr: 2.5119e-04\n",
            "Epoch 10/80\n",
            "1500/1500 [==============================] - 2s 1ms/step - loss: 0.9737 - accuracy: 0.7128 - val_loss: 0.9586 - val_accuracy: 0.7181 - lr: 2.8184e-04\n",
            "Epoch 11/80\n",
            "1500/1500 [==============================] - 2s 1ms/step - loss: 0.9411 - accuracy: 0.7238 - val_loss: 0.9304 - val_accuracy: 0.7265 - lr: 3.1623e-04\n",
            "Epoch 12/80\n",
            "1500/1500 [==============================] - 2s 1ms/step - loss: 0.9128 - accuracy: 0.7326 - val_loss: 0.9054 - val_accuracy: 0.7366 - lr: 3.5481e-04\n",
            "Epoch 13/80\n",
            "1500/1500 [==============================] - 3s 2ms/step - loss: 0.8873 - accuracy: 0.7380 - val_loss: 0.8772 - val_accuracy: 0.7435 - lr: 3.9811e-04\n",
            "Epoch 14/80\n",
            "1500/1500 [==============================] - 4s 3ms/step - loss: 0.8637 - accuracy: 0.7455 - val_loss: 0.8587 - val_accuracy: 0.7463 - lr: 4.4668e-04\n",
            "Epoch 15/80\n",
            "1500/1500 [==============================] - 2s 2ms/step - loss: 0.8408 - accuracy: 0.7512 - val_loss: 0.8369 - val_accuracy: 0.7536 - lr: 5.0119e-04\n",
            "Epoch 16/80\n",
            "1500/1500 [==============================] - 2s 1ms/step - loss: 0.8184 - accuracy: 0.7569 - val_loss: 0.8144 - val_accuracy: 0.7624 - lr: 5.6234e-04\n",
            "Epoch 17/80\n",
            "1500/1500 [==============================] - 2s 1ms/step - loss: 0.7963 - accuracy: 0.7641 - val_loss: 0.7942 - val_accuracy: 0.7634 - lr: 6.3096e-04\n",
            "Epoch 18/80\n",
            "1500/1500 [==============================] - 2s 1ms/step - loss: 0.7758 - accuracy: 0.7692 - val_loss: 0.7763 - val_accuracy: 0.7682 - lr: 7.0795e-04\n",
            "Epoch 19/80\n",
            "1500/1500 [==============================] - 2s 1ms/step - loss: 0.7551 - accuracy: 0.7750 - val_loss: 0.7626 - val_accuracy: 0.7723 - lr: 7.9433e-04\n",
            "Epoch 20/80\n",
            "1500/1500 [==============================] - 2s 1ms/step - loss: 0.7354 - accuracy: 0.7808 - val_loss: 0.7391 - val_accuracy: 0.7809 - lr: 8.9125e-04\n",
            "Epoch 21/80\n",
            "1500/1500 [==============================] - 2s 1ms/step - loss: 0.7151 - accuracy: 0.7899 - val_loss: 0.7217 - val_accuracy: 0.7886 - lr: 0.0010\n",
            "Epoch 22/80\n",
            "1500/1500 [==============================] - 2s 1ms/step - loss: 0.6954 - accuracy: 0.7983 - val_loss: 0.7002 - val_accuracy: 0.7968 - lr: 0.0011\n",
            "Epoch 23/80\n",
            "1500/1500 [==============================] - 2s 1ms/step - loss: 0.6713 - accuracy: 0.8051 - val_loss: 0.6710 - val_accuracy: 0.8044 - lr: 0.0013\n",
            "Epoch 24/80\n",
            "1500/1500 [==============================] - 2s 1ms/step - loss: 0.6513 - accuracy: 0.8096 - val_loss: 0.6622 - val_accuracy: 0.8060 - lr: 0.0014\n",
            "Epoch 25/80\n",
            "1500/1500 [==============================] - 2s 1ms/step - loss: 0.6366 - accuracy: 0.8140 - val_loss: 0.6743 - val_accuracy: 0.7998 - lr: 0.0016\n",
            "Epoch 26/80\n",
            "1500/1500 [==============================] - 2s 1ms/step - loss: 0.6295 - accuracy: 0.8155 - val_loss: 0.6477 - val_accuracy: 0.8153 - lr: 0.0018\n",
            "Epoch 27/80\n",
            "1500/1500 [==============================] - 2s 1ms/step - loss: 0.6231 - accuracy: 0.8180 - val_loss: 0.6460 - val_accuracy: 0.8096 - lr: 0.0020\n",
            "Epoch 28/80\n",
            "1500/1500 [==============================] - 2s 1ms/step - loss: 0.6179 - accuracy: 0.8203 - val_loss: 0.6390 - val_accuracy: 0.8152 - lr: 0.0022\n",
            "Epoch 29/80\n",
            "1500/1500 [==============================] - 2s 1ms/step - loss: 0.6142 - accuracy: 0.8190 - val_loss: 0.6164 - val_accuracy: 0.8210 - lr: 0.0025\n",
            "Epoch 30/80\n",
            "1500/1500 [==============================] - 2s 1ms/step - loss: 0.6093 - accuracy: 0.8219 - val_loss: 0.6261 - val_accuracy: 0.8212 - lr: 0.0028\n",
            "Epoch 31/80\n",
            "1500/1500 [==============================] - 2s 1ms/step - loss: 0.6071 - accuracy: 0.8217 - val_loss: 0.6274 - val_accuracy: 0.8200 - lr: 0.0032\n",
            "Epoch 32/80\n",
            "1500/1500 [==============================] - 2s 1ms/step - loss: 0.6059 - accuracy: 0.8219 - val_loss: 0.6171 - val_accuracy: 0.8223 - lr: 0.0035\n",
            "Epoch 33/80\n",
            "1500/1500 [==============================] - 2s 1ms/step - loss: 0.6006 - accuracy: 0.8247 - val_loss: 0.6136 - val_accuracy: 0.8204 - lr: 0.0040\n",
            "Epoch 34/80\n",
            "1500/1500 [==============================] - 2s 1ms/step - loss: 0.5930 - accuracy: 0.8263 - val_loss: 0.5969 - val_accuracy: 0.8321 - lr: 0.0045\n",
            "Epoch 35/80\n",
            "1500/1500 [==============================] - 2s 1ms/step - loss: 0.5851 - accuracy: 0.8290 - val_loss: 0.5935 - val_accuracy: 0.8286 - lr: 0.0050\n",
            "Epoch 36/80\n",
            "1500/1500 [==============================] - 2s 1ms/step - loss: 0.5801 - accuracy: 0.8310 - val_loss: 0.5766 - val_accuracy: 0.8367 - lr: 0.0056\n",
            "Epoch 37/80\n",
            "1500/1500 [==============================] - 2s 1ms/step - loss: 0.5752 - accuracy: 0.8321 - val_loss: 0.5794 - val_accuracy: 0.8407 - lr: 0.0063\n",
            "Epoch 38/80\n",
            "1500/1500 [==============================] - 2s 1ms/step - loss: 0.5656 - accuracy: 0.8364 - val_loss: 0.5663 - val_accuracy: 0.8394 - lr: 0.0071\n",
            "Epoch 39/80\n",
            "1500/1500 [==============================] - 2s 1ms/step - loss: 0.5577 - accuracy: 0.8384 - val_loss: 0.5468 - val_accuracy: 0.8444 - lr: 0.0079\n",
            "Epoch 40/80\n",
            "1500/1500 [==============================] - 2s 1ms/step - loss: 0.5478 - accuracy: 0.8409 - val_loss: 0.5552 - val_accuracy: 0.8419 - lr: 0.0089\n",
            "Epoch 41/80\n",
            "1500/1500 [==============================] - 2s 2ms/step - loss: 0.5343 - accuracy: 0.8458 - val_loss: 0.5322 - val_accuracy: 0.8549 - lr: 0.0100\n",
            "Epoch 42/80\n",
            "1500/1500 [==============================] - 2s 1ms/step - loss: 0.5279 - accuracy: 0.8459 - val_loss: 0.5426 - val_accuracy: 0.8459 - lr: 0.0112\n",
            "Epoch 43/80\n",
            "1500/1500 [==============================] - 2s 1ms/step - loss: 0.5332 - accuracy: 0.8428 - val_loss: 0.5709 - val_accuracy: 0.8350 - lr: 0.0126\n",
            "Epoch 44/80\n",
            "1500/1500 [==============================] - 2s 1ms/step - loss: 0.5386 - accuracy: 0.8416 - val_loss: 0.5346 - val_accuracy: 0.8438 - lr: 0.0141\n",
            "Epoch 45/80\n",
            "1500/1500 [==============================] - 2s 1ms/step - loss: 0.5454 - accuracy: 0.8405 - val_loss: 0.5380 - val_accuracy: 0.8398 - lr: 0.0158\n",
            "Epoch 46/80\n",
            "1500/1500 [==============================] - 2s 1ms/step - loss: 0.5481 - accuracy: 0.8379 - val_loss: 0.5732 - val_accuracy: 0.8376 - lr: 0.0178\n",
            "Epoch 47/80\n",
            "1500/1500 [==============================] - 2s 1ms/step - loss: 0.5554 - accuracy: 0.8374 - val_loss: 0.5438 - val_accuracy: 0.8425 - lr: 0.0200\n",
            "Epoch 48/80\n",
            "1500/1500 [==============================] - 2s 1ms/step - loss: 0.5751 - accuracy: 0.8328 - val_loss: 0.5941 - val_accuracy: 0.8207 - lr: 0.0224\n",
            "Epoch 49/80\n",
            "1500/1500 [==============================] - 2s 2ms/step - loss: 0.5808 - accuracy: 0.8313 - val_loss: 0.6514 - val_accuracy: 0.8013 - lr: 0.0251\n",
            "Epoch 50/80\n",
            "1500/1500 [==============================] - 2s 1ms/step - loss: 0.6044 - accuracy: 0.8229 - val_loss: 0.5761 - val_accuracy: 0.8421 - lr: 0.0282\n",
            "Epoch 51/80\n",
            "1500/1500 [==============================] - 2s 1ms/step - loss: 0.6230 - accuracy: 0.8192 - val_loss: 0.6345 - val_accuracy: 0.8208 - lr: 0.0316\n",
            "Epoch 52/80\n",
            "1500/1500 [==============================] - 2s 2ms/step - loss: 0.6509 - accuracy: 0.8128 - val_loss: 0.6653 - val_accuracy: 0.8088 - lr: 0.0355\n",
            "Epoch 53/80\n",
            "1500/1500 [==============================] - 2s 1ms/step - loss: 0.6880 - accuracy: 0.8039 - val_loss: 0.7795 - val_accuracy: 0.7871 - lr: 0.0398\n",
            "Epoch 54/80\n",
            "1500/1500 [==============================] - 2s 1ms/step - loss: 0.7051 - accuracy: 0.7994 - val_loss: 0.7094 - val_accuracy: 0.7968 - lr: 0.0447\n",
            "Epoch 55/80\n",
            "1500/1500 [==============================] - 2s 1ms/step - loss: 0.7673 - accuracy: 0.7819 - val_loss: 0.8224 - val_accuracy: 0.7513 - lr: 0.0501\n",
            "Epoch 56/80\n",
            "1500/1500 [==============================] - 2s 2ms/step - loss: 0.8126 - accuracy: 0.7691 - val_loss: 0.9141 - val_accuracy: 0.7405 - lr: 0.0562\n",
            "Epoch 57/80\n",
            "1500/1500 [==============================] - 2s 1ms/step - loss: 0.9047 - accuracy: 0.7253 - val_loss: 0.9613 - val_accuracy: 0.6812 - lr: 0.0631\n",
            "Epoch 58/80\n",
            "1500/1500 [==============================] - 2s 1ms/step - loss: 1.0934 - accuracy: 0.6394 - val_loss: 1.0624 - val_accuracy: 0.6898 - lr: 0.0708\n",
            "Epoch 59/80\n",
            "1500/1500 [==============================] - 2s 1ms/step - loss: 1.1369 - accuracy: 0.6442 - val_loss: 1.0170 - val_accuracy: 0.7190 - lr: 0.0794\n",
            "Epoch 60/80\n",
            "1500/1500 [==============================] - 2s 1ms/step - loss: 1.3044 - accuracy: 0.5801 - val_loss: 1.4991 - val_accuracy: 0.4023 - lr: 0.0891\n",
            "Epoch 61/80\n",
            "1500/1500 [==============================] - 2s 1ms/step - loss: 1.5564 - accuracy: 0.4245 - val_loss: 1.7965 - val_accuracy: 0.2929 - lr: 0.1000\n",
            "Epoch 62/80\n",
            "1500/1500 [==============================] - 2s 1ms/step - loss: 1.7917 - accuracy: 0.2968 - val_loss: 2.0255 - val_accuracy: 0.1947 - lr: 0.1122\n",
            "Epoch 63/80\n",
            "1500/1500 [==============================] - 2s 1ms/step - loss: 2.0656 - accuracy: 0.1897 - val_loss: 2.1402 - val_accuracy: 0.1796 - lr: 0.1259\n",
            "Epoch 64/80\n",
            "1500/1500 [==============================] - 2s 1ms/step - loss: 2.1289 - accuracy: 0.1878 - val_loss: 2.1439 - val_accuracy: 0.1947 - lr: 0.1413\n",
            "Epoch 65/80\n",
            "1500/1500 [==============================] - 2s 1ms/step - loss: 2.2249 - accuracy: 0.1425 - val_loss: 2.1552 - val_accuracy: 0.1725 - lr: 0.1585\n",
            "Epoch 66/80\n",
            "1500/1500 [==============================] - 2s 1ms/step - loss: 2.9435 - accuracy: 0.1382 - val_loss: 2.3281 - val_accuracy: 0.1003 - lr: 0.1778\n",
            "Epoch 67/80\n",
            "1500/1500 [==============================] - 2s 1ms/step - loss: 2.3265 - accuracy: 0.1038 - val_loss: 2.3173 - val_accuracy: 0.1015 - lr: 0.1995\n",
            "Epoch 68/80\n",
            "1500/1500 [==============================] - 2s 2ms/step - loss: 2.3303 - accuracy: 0.1024 - val_loss: 2.3459 - val_accuracy: 0.1015 - lr: 0.2239\n",
            "Epoch 69/80\n",
            "1500/1500 [==============================] - 2s 1ms/step - loss: 2.3307 - accuracy: 0.1010 - val_loss: 2.3411 - val_accuracy: 0.1015 - lr: 0.2512\n",
            "Epoch 70/80\n",
            "1500/1500 [==============================] - 2s 1ms/step - loss: 2.3346 - accuracy: 0.0992 - val_loss: 2.3202 - val_accuracy: 0.0979 - lr: 0.2818\n",
            "Epoch 71/80\n",
            "1500/1500 [==============================] - 2s 1ms/step - loss: 2.3394 - accuracy: 0.1008 - val_loss: 2.3479 - val_accuracy: 0.0979 - lr: 0.3162\n",
            "Epoch 72/80\n",
            "1500/1500 [==============================] - 2s 2ms/step - loss: 2.3424 - accuracy: 0.1026 - val_loss: 2.3498 - val_accuracy: 0.0963 - lr: 0.3548\n",
            "Epoch 73/80\n",
            "1500/1500 [==============================] - 2s 1ms/step - loss: 2.3486 - accuracy: 0.1011 - val_loss: 2.3708 - val_accuracy: 0.0955 - lr: 0.3981\n",
            "Epoch 74/80\n",
            "1500/1500 [==============================] - 2s 1ms/step - loss: 2.3549 - accuracy: 0.1000 - val_loss: 2.3631 - val_accuracy: 0.0933 - lr: 0.4467\n",
            "Epoch 75/80\n",
            "1500/1500 [==============================] - 2s 1ms/step - loss: 2.3613 - accuracy: 0.1007 - val_loss: 2.3294 - val_accuracy: 0.1003 - lr: 0.5012\n",
            "Epoch 76/80\n",
            "1500/1500 [==============================] - 2s 2ms/step - loss: 2.3621 - accuracy: 0.1014 - val_loss: 2.4053 - val_accuracy: 0.1003 - lr: 0.5623\n",
            "Epoch 77/80\n",
            "1500/1500 [==============================] - 2s 1ms/step - loss: 2.3732 - accuracy: 0.1030 - val_loss: 2.3193 - val_accuracy: 0.1135 - lr: 0.6310\n",
            "Epoch 78/80\n",
            "1500/1500 [==============================] - 2s 1ms/step - loss: 2.3837 - accuracy: 0.0993 - val_loss: 2.3732 - val_accuracy: 0.0963 - lr: 0.7079\n",
            "Epoch 79/80\n",
            "1500/1500 [==============================] - 2s 1ms/step - loss: 2.3922 - accuracy: 0.1011 - val_loss: 2.3704 - val_accuracy: 0.0955 - lr: 0.7943\n",
            "Epoch 80/80\n",
            "1500/1500 [==============================] - 2s 1ms/step - loss: 2.3988 - accuracy: 0.0993 - val_loss: 2.4216 - val_accuracy: 0.1135 - lr: 0.8913\n"
          ]
        }
      ]
    },
    {
      "cell_type": "markdown",
      "source": [
        "Our goal was to find the ideal learning rate, How we can obtain that ?\n",
        "\n",
        "Notice we got a new return value `lr` with some exponetial values, those are the different learning rate on which each epoch has run. But let's find out the ideal learning rate.......\n",
        "\n",
        "By plotting the *learning rate decay*."
      ],
      "metadata": {
        "id": "Y-X7x_-vV0e0"
      }
    },
    {
      "cell_type": "code",
      "source": [
        "epochs = 80 # we chose 80 epochs to fit our model\n",
        "lrs = 1e-4 * (10**(tf.range(epochs)/20)) # this is the same lambda variable which we declared with LearningRateScheduler\n",
        "plt.semilogx(lrs, history_3.history['loss']) # we accessing here the loss value from history that we recieved after fitting the model\n",
        "plt.xlabel(\"Learning rate\")\n",
        "plt.ylabel(\"Loss\")\n",
        "plt.title(\"Finding the ideal learning rate\");"
      ],
      "metadata": {
        "colab": {
          "base_uri": "https://localhost:8080/",
          "height": 299
        },
        "id": "iQ5Frc2RWEXR",
        "outputId": "eb12927a-2733-49ae-fabd-5f784b14f1b4"
      },
      "execution_count": 30,
      "outputs": [
        {
          "output_type": "display_data",
          "data": {
            "text/plain": [
              "<Figure size 432x288 with 1 Axes>"
            ],
            "image/png": "[encoded data removed]"
          },
          "metadata": {
            "needs_background": "light"
          }
        }
      ]
    },
    {
      "cell_type": "markdown",
      "source": [
        "It's been observed that, the optimal learning rate is the range between the lowest point in the curve i.e ~0.01 and 10x behind that point i.e ~0.001\n",
        "\n",
        "And 0.001 is the default value of `learning_rate` of [Adam](https://www.tensorflow.org/api_docs/python/tf/keras/optimizers/Adam) which we have been training our model with these default values. But for completeness let's build our model again with `0.01`"
      ],
      "metadata": {
        "id": "y0dd7Nf1XO55"
      }
    },
    {
      "cell_type": "code",
      "source": [
        "# set the random seed\n",
        "tf.random.set_seed(17)\n",
        "\n",
        "# create a model\n",
        "model_4 = tf.keras.Sequential([\n",
        "  tf.keras.layers.Flatten(input_shape=(28,28)),\n",
        "  tf.keras.layers.Dense(4, activation='relu'),\n",
        "  tf.keras.layers.Dense(4, activation='relu'),\n",
        "  tf.keras.layers.Dense(10, activation='softmax')\n",
        "])\n",
        "\n",
        "# compile a model\n",
        "model_4.compile(loss='sparse_categorical_crossentropy',\n",
        "                optimizer=tf.keras.optimizers.Adam(learning_rate=0.01),\n",
        "                metrics=['accuracy'])\n",
        "\n",
        "# fit the model\n",
        "history_4 = model_4.fit(X_train_norm,\n",
        "                        y_train,\n",
        "                        epochs=100, # This time for longer period of epochs\n",
        "                        validation_data = (X_valid_norm, y_valid))"
      ],
      "metadata": {
        "colab": {
          "base_uri": "https://localhost:8080/"
        },
        "id": "EBbTnal6ax8v",
        "outputId": "2040b4b2-b31e-4e14-f2e3-eb3c18b6215d"
      },
      "execution_count": 35,
      "outputs": [
        {
          "output_type": "stream",
          "name": "stdout",
          "text": [
            "Epoch 1/100\n",
            "1500/1500 [==============================] - 2s 1ms/step - loss: 0.8602 - accuracy: 0.7186 - val_loss: 0.6236 - val_accuracy: 0.8092\n",
            "Epoch 2/100\n",
            "1500/1500 [==============================] - 2s 1ms/step - loss: 0.6036 - accuracy: 0.8173 - val_loss: 0.5593 - val_accuracy: 0.8309\n",
            "Epoch 3/100\n",
            "1500/1500 [==============================] - 2s 1ms/step - loss: 0.5505 - accuracy: 0.8358 - val_loss: 0.5598 - val_accuracy: 0.8360\n",
            "Epoch 4/100\n",
            "1500/1500 [==============================] - 2s 1ms/step - loss: 0.5190 - accuracy: 0.8485 - val_loss: 0.5140 - val_accuracy: 0.8491\n",
            "Epoch 5/100\n",
            "1500/1500 [==============================] - 2s 1ms/step - loss: 0.5032 - accuracy: 0.8520 - val_loss: 0.5004 - val_accuracy: 0.8571\n",
            "Epoch 6/100\n",
            "1500/1500 [==============================] - 2s 1ms/step - loss: 0.4961 - accuracy: 0.8547 - val_loss: 0.4987 - val_accuracy: 0.8532\n",
            "Epoch 7/100\n",
            "1500/1500 [==============================] - 2s 1ms/step - loss: 0.4897 - accuracy: 0.8587 - val_loss: 0.5170 - val_accuracy: 0.8461\n",
            "Epoch 8/100\n",
            "1500/1500 [==============================] - 2s 1ms/step - loss: 0.4825 - accuracy: 0.8577 - val_loss: 0.5021 - val_accuracy: 0.8540\n",
            "Epoch 9/100\n",
            "1500/1500 [==============================] - 2s 1ms/step - loss: 0.4762 - accuracy: 0.8601 - val_loss: 0.5005 - val_accuracy: 0.8499\n",
            "Epoch 10/100\n",
            "1500/1500 [==============================] - 2s 1ms/step - loss: 0.4750 - accuracy: 0.8608 - val_loss: 0.5162 - val_accuracy: 0.8506\n",
            "Epoch 11/100\n",
            "1500/1500 [==============================] - 2s 2ms/step - loss: 0.4726 - accuracy: 0.8623 - val_loss: 0.4835 - val_accuracy: 0.8602\n",
            "Epoch 12/100\n",
            "1500/1500 [==============================] - 2s 1ms/step - loss: 0.4669 - accuracy: 0.8647 - val_loss: 0.4989 - val_accuracy: 0.8554\n",
            "Epoch 13/100\n",
            "1500/1500 [==============================] - 2s 1ms/step - loss: 0.4663 - accuracy: 0.8631 - val_loss: 0.5139 - val_accuracy: 0.8518\n",
            "Epoch 14/100\n",
            "1500/1500 [==============================] - 2s 1ms/step - loss: 0.4637 - accuracy: 0.8625 - val_loss: 0.5030 - val_accuracy: 0.8561\n",
            "Epoch 15/100\n",
            "1500/1500 [==============================] - 2s 1ms/step - loss: 0.4602 - accuracy: 0.8642 - val_loss: 0.4833 - val_accuracy: 0.8600\n",
            "Epoch 16/100\n",
            "1500/1500 [==============================] - 2s 1ms/step - loss: 0.4604 - accuracy: 0.8635 - val_loss: 0.4882 - val_accuracy: 0.8600\n",
            "Epoch 17/100\n",
            "1500/1500 [==============================] - 2s 1ms/step - loss: 0.4563 - accuracy: 0.8652 - val_loss: 0.4956 - val_accuracy: 0.8511\n",
            "Epoch 18/100\n",
            "1500/1500 [==============================] - 2s 1ms/step - loss: 0.4571 - accuracy: 0.8649 - val_loss: 0.5020 - val_accuracy: 0.8540\n",
            "Epoch 19/100\n",
            "1500/1500 [==============================] - 2s 1ms/step - loss: 0.4564 - accuracy: 0.8644 - val_loss: 0.5169 - val_accuracy: 0.8493\n",
            "Epoch 20/100\n",
            "1500/1500 [==============================] - 2s 2ms/step - loss: 0.4540 - accuracy: 0.8671 - val_loss: 0.5245 - val_accuracy: 0.8404\n",
            "Epoch 21/100\n",
            "1500/1500 [==============================] - 3s 2ms/step - loss: 0.4553 - accuracy: 0.8672 - val_loss: 0.5068 - val_accuracy: 0.8544\n",
            "Epoch 22/100\n",
            "1500/1500 [==============================] - 4s 2ms/step - loss: 0.4505 - accuracy: 0.8679 - val_loss: 0.4673 - val_accuracy: 0.8629\n",
            "Epoch 23/100\n",
            "1500/1500 [==============================] - 2s 1ms/step - loss: 0.4526 - accuracy: 0.8667 - val_loss: 0.4944 - val_accuracy: 0.8552\n",
            "Epoch 24/100\n",
            "1500/1500 [==============================] - 2s 1ms/step - loss: 0.4504 - accuracy: 0.8664 - val_loss: 0.4786 - val_accuracy: 0.8605\n",
            "Epoch 25/100\n",
            "1500/1500 [==============================] - 2s 1ms/step - loss: 0.4513 - accuracy: 0.8665 - val_loss: 0.4770 - val_accuracy: 0.8599\n",
            "Epoch 26/100\n",
            "1500/1500 [==============================] - 2s 1ms/step - loss: 0.4496 - accuracy: 0.8671 - val_loss: 0.5507 - val_accuracy: 0.8397\n",
            "Epoch 27/100\n",
            "1500/1500 [==============================] - 2s 1ms/step - loss: 0.4505 - accuracy: 0.8661 - val_loss: 0.4942 - val_accuracy: 0.8511\n",
            "Epoch 28/100\n",
            "1500/1500 [==============================] - 2s 1ms/step - loss: 0.4481 - accuracy: 0.8681 - val_loss: 0.4914 - val_accuracy: 0.8593\n",
            "Epoch 29/100\n",
            "1500/1500 [==============================] - 2s 1ms/step - loss: 0.4470 - accuracy: 0.8686 - val_loss: 0.4718 - val_accuracy: 0.8656\n",
            "Epoch 30/100\n",
            "1500/1500 [==============================] - 2s 1ms/step - loss: 0.4477 - accuracy: 0.8681 - val_loss: 0.4833 - val_accuracy: 0.8612\n",
            "Epoch 31/100\n",
            "1500/1500 [==============================] - 2s 1ms/step - loss: 0.4460 - accuracy: 0.8691 - val_loss: 0.6278 - val_accuracy: 0.8161\n",
            "Epoch 32/100\n",
            "1500/1500 [==============================] - 2s 1ms/step - loss: 0.4473 - accuracy: 0.8675 - val_loss: 0.4715 - val_accuracy: 0.8671\n",
            "Epoch 33/100\n",
            "1500/1500 [==============================] - 2s 1ms/step - loss: 0.4452 - accuracy: 0.8686 - val_loss: 0.4915 - val_accuracy: 0.8546\n",
            "Epoch 34/100\n",
            "1500/1500 [==============================] - 2s 1ms/step - loss: 0.4468 - accuracy: 0.8687 - val_loss: 0.4844 - val_accuracy: 0.8619\n",
            "Epoch 35/100\n",
            "1500/1500 [==============================] - 2s 1ms/step - loss: 0.4466 - accuracy: 0.8694 - val_loss: 0.4853 - val_accuracy: 0.8608\n",
            "Epoch 36/100\n",
            "1500/1500 [==============================] - 2s 1ms/step - loss: 0.4469 - accuracy: 0.8673 - val_loss: 0.4825 - val_accuracy: 0.8613\n",
            "Epoch 37/100\n",
            "1500/1500 [==============================] - 2s 1ms/step - loss: 0.4425 - accuracy: 0.8694 - val_loss: 0.4829 - val_accuracy: 0.8637\n",
            "Epoch 38/100\n",
            "1500/1500 [==============================] - 2s 1ms/step - loss: 0.4439 - accuracy: 0.8687 - val_loss: 0.4854 - val_accuracy: 0.8624\n",
            "Epoch 39/100\n",
            "1500/1500 [==============================] - 2s 1ms/step - loss: 0.4456 - accuracy: 0.8674 - val_loss: 0.4801 - val_accuracy: 0.8601\n",
            "Epoch 40/100\n",
            "1500/1500 [==============================] - 2s 1ms/step - loss: 0.4433 - accuracy: 0.8689 - val_loss: 0.4737 - val_accuracy: 0.8656\n",
            "Epoch 41/100\n",
            "1500/1500 [==============================] - 2s 1ms/step - loss: 0.4434 - accuracy: 0.8690 - val_loss: 0.5041 - val_accuracy: 0.8526\n",
            "Epoch 42/100\n",
            "1500/1500 [==============================] - 2s 1ms/step - loss: 0.4451 - accuracy: 0.8696 - val_loss: 0.4766 - val_accuracy: 0.8602\n",
            "Epoch 43/100\n",
            "1500/1500 [==============================] - 2s 1ms/step - loss: 0.4449 - accuracy: 0.8682 - val_loss: 0.5258 - val_accuracy: 0.8425\n",
            "Epoch 44/100\n",
            "1500/1500 [==============================] - 2s 2ms/step - loss: 0.4428 - accuracy: 0.8698 - val_loss: 0.4779 - val_accuracy: 0.8649\n",
            "Epoch 45/100\n",
            "1500/1500 [==============================] - 2s 1ms/step - loss: 0.4442 - accuracy: 0.8683 - val_loss: 0.5260 - val_accuracy: 0.8447\n",
            "Epoch 46/100\n",
            "1500/1500 [==============================] - 2s 2ms/step - loss: 0.4461 - accuracy: 0.8693 - val_loss: 0.4950 - val_accuracy: 0.8577\n",
            "Epoch 47/100\n",
            "1500/1500 [==============================] - 2s 1ms/step - loss: 0.4440 - accuracy: 0.8687 - val_loss: 0.5187 - val_accuracy: 0.8496\n",
            "Epoch 48/100\n",
            "1500/1500 [==============================] - 2s 1ms/step - loss: 0.4431 - accuracy: 0.8700 - val_loss: 0.4678 - val_accuracy: 0.8618\n",
            "Epoch 49/100\n",
            "1500/1500 [==============================] - 2s 1ms/step - loss: 0.4406 - accuracy: 0.8702 - val_loss: 0.4869 - val_accuracy: 0.8581\n",
            "Epoch 50/100\n",
            "1500/1500 [==============================] - 2s 1ms/step - loss: 0.4423 - accuracy: 0.8705 - val_loss: 0.4844 - val_accuracy: 0.8648\n",
            "Epoch 51/100\n",
            "1500/1500 [==============================] - 2s 1ms/step - loss: 0.4419 - accuracy: 0.8690 - val_loss: 0.5301 - val_accuracy: 0.8497\n",
            "Epoch 52/100\n",
            "1500/1500 [==============================] - 2s 1ms/step - loss: 0.4422 - accuracy: 0.8704 - val_loss: 0.5099 - val_accuracy: 0.8569\n",
            "Epoch 53/100\n",
            "1500/1500 [==============================] - 2s 1ms/step - loss: 0.4404 - accuracy: 0.8698 - val_loss: 0.4706 - val_accuracy: 0.8667\n",
            "Epoch 54/100\n",
            "1500/1500 [==============================] - 2s 1ms/step - loss: 0.4435 - accuracy: 0.8700 - val_loss: 0.5225 - val_accuracy: 0.8513\n",
            "Epoch 55/100\n",
            "1500/1500 [==============================] - 2s 1ms/step - loss: 0.4415 - accuracy: 0.8701 - val_loss: 0.4928 - val_accuracy: 0.8620\n",
            "Epoch 56/100\n",
            "1500/1500 [==============================] - 2s 1ms/step - loss: 0.4422 - accuracy: 0.8694 - val_loss: 0.5006 - val_accuracy: 0.8524\n",
            "Epoch 57/100\n",
            "1500/1500 [==============================] - 2s 1ms/step - loss: 0.4430 - accuracy: 0.8700 - val_loss: 0.4914 - val_accuracy: 0.8575\n",
            "Epoch 58/100\n",
            "1500/1500 [==============================] - 2s 1ms/step - loss: 0.4386 - accuracy: 0.8705 - val_loss: 0.5002 - val_accuracy: 0.8627\n",
            "Epoch 59/100\n",
            "1500/1500 [==============================] - 2s 1ms/step - loss: 0.4428 - accuracy: 0.8690 - val_loss: 0.5084 - val_accuracy: 0.8508\n",
            "Epoch 60/100\n",
            "1500/1500 [==============================] - 2s 1ms/step - loss: 0.4411 - accuracy: 0.8686 - val_loss: 0.5019 - val_accuracy: 0.8558\n",
            "Epoch 61/100\n",
            "1500/1500 [==============================] - 2s 1ms/step - loss: 0.4401 - accuracy: 0.8693 - val_loss: 0.4924 - val_accuracy: 0.8583\n",
            "Epoch 62/100\n",
            "1500/1500 [==============================] - 2s 1ms/step - loss: 0.4397 - accuracy: 0.8685 - val_loss: 0.4799 - val_accuracy: 0.8622\n",
            "Epoch 63/100\n",
            "1500/1500 [==============================] - 2s 1ms/step - loss: 0.4394 - accuracy: 0.8705 - val_loss: 0.5020 - val_accuracy: 0.8572\n",
            "Epoch 64/100\n",
            "1500/1500 [==============================] - 2s 1ms/step - loss: 0.4403 - accuracy: 0.8691 - val_loss: 0.4890 - val_accuracy: 0.8655\n",
            "Epoch 65/100\n",
            "1500/1500 [==============================] - 2s 1ms/step - loss: 0.4416 - accuracy: 0.8706 - val_loss: 0.5139 - val_accuracy: 0.8537\n",
            "Epoch 66/100\n",
            "1500/1500 [==============================] - 2s 1ms/step - loss: 0.4365 - accuracy: 0.8703 - val_loss: 0.4839 - val_accuracy: 0.8637\n",
            "Epoch 67/100\n",
            "1500/1500 [==============================] - 2s 1ms/step - loss: 0.4365 - accuracy: 0.8714 - val_loss: 0.4812 - val_accuracy: 0.8641\n",
            "Epoch 68/100\n",
            "1500/1500 [==============================] - 2s 1ms/step - loss: 0.4430 - accuracy: 0.8685 - val_loss: 0.4919 - val_accuracy: 0.8618\n",
            "Epoch 69/100\n",
            "1500/1500 [==============================] - 2s 2ms/step - loss: 0.4385 - accuracy: 0.8707 - val_loss: 0.5136 - val_accuracy: 0.8483\n",
            "Epoch 70/100\n",
            "1500/1500 [==============================] - 2s 1ms/step - loss: 0.4354 - accuracy: 0.8714 - val_loss: 0.4996 - val_accuracy: 0.8572\n",
            "Epoch 71/100\n",
            "1500/1500 [==============================] - 2s 1ms/step - loss: 0.4392 - accuracy: 0.8710 - val_loss: 0.4767 - val_accuracy: 0.8611\n",
            "Epoch 72/100\n",
            "1500/1500 [==============================] - 2s 1ms/step - loss: 0.4371 - accuracy: 0.8704 - val_loss: 0.4994 - val_accuracy: 0.8575\n",
            "Epoch 73/100\n",
            "1500/1500 [==============================] - 2s 1ms/step - loss: 0.4407 - accuracy: 0.8692 - val_loss: 0.4854 - val_accuracy: 0.8590\n",
            "Epoch 74/100\n",
            "1500/1500 [==============================] - 2s 1ms/step - loss: 0.4378 - accuracy: 0.8712 - val_loss: 0.4907 - val_accuracy: 0.8624\n",
            "Epoch 75/100\n",
            "1500/1500 [==============================] - 2s 1ms/step - loss: 0.4388 - accuracy: 0.8712 - val_loss: 0.4711 - val_accuracy: 0.8586\n",
            "Epoch 76/100\n",
            "1500/1500 [==============================] - 2s 1ms/step - loss: 0.4399 - accuracy: 0.8698 - val_loss: 0.5053 - val_accuracy: 0.8545\n",
            "Epoch 77/100\n",
            "1500/1500 [==============================] - 2s 1ms/step - loss: 0.4415 - accuracy: 0.8695 - val_loss: 0.4845 - val_accuracy: 0.8652\n",
            "Epoch 78/100\n",
            "1500/1500 [==============================] - 2s 1ms/step - loss: 0.4409 - accuracy: 0.8696 - val_loss: 0.4854 - val_accuracy: 0.8652\n",
            "Epoch 79/100\n",
            "1500/1500 [==============================] - 2s 1ms/step - loss: 0.4386 - accuracy: 0.8708 - val_loss: 0.5097 - val_accuracy: 0.8562\n",
            "Epoch 80/100\n",
            "1500/1500 [==============================] - 2s 2ms/step - loss: 0.4384 - accuracy: 0.8702 - val_loss: 0.4987 - val_accuracy: 0.8595\n",
            "Epoch 81/100\n",
            "1500/1500 [==============================] - 2s 1ms/step - loss: 0.4402 - accuracy: 0.8698 - val_loss: 0.4957 - val_accuracy: 0.8562\n",
            "Epoch 82/100\n",
            "1500/1500 [==============================] - 2s 1ms/step - loss: 0.4372 - accuracy: 0.8709 - val_loss: 0.4778 - val_accuracy: 0.8646\n",
            "Epoch 83/100\n",
            "1500/1500 [==============================] - 2s 1ms/step - loss: 0.4401 - accuracy: 0.8702 - val_loss: 0.4902 - val_accuracy: 0.8622\n",
            "Epoch 84/100\n",
            "1500/1500 [==============================] - 2s 1ms/step - loss: 0.4386 - accuracy: 0.8701 - val_loss: 0.5031 - val_accuracy: 0.8586\n",
            "Epoch 85/100\n",
            "1500/1500 [==============================] - 2s 1ms/step - loss: 0.4366 - accuracy: 0.8710 - val_loss: 0.4733 - val_accuracy: 0.8613\n",
            "Epoch 86/100\n",
            "1500/1500 [==============================] - 2s 1ms/step - loss: 0.4379 - accuracy: 0.8709 - val_loss: 0.4985 - val_accuracy: 0.8538\n",
            "Epoch 87/100\n",
            "1500/1500 [==============================] - 2s 1ms/step - loss: 0.4381 - accuracy: 0.8708 - val_loss: 0.4957 - val_accuracy: 0.8559\n",
            "Epoch 88/100\n",
            "1500/1500 [==============================] - 2s 1ms/step - loss: 0.4409 - accuracy: 0.8699 - val_loss: 0.4861 - val_accuracy: 0.8608\n",
            "Epoch 89/100\n",
            "1500/1500 [==============================] - 2s 1ms/step - loss: 0.4353 - accuracy: 0.8729 - val_loss: 0.5053 - val_accuracy: 0.8575\n",
            "Epoch 90/100\n",
            "1500/1500 [==============================] - 2s 1ms/step - loss: 0.4392 - accuracy: 0.8710 - val_loss: 0.4932 - val_accuracy: 0.8592\n",
            "Epoch 91/100\n",
            "1500/1500 [==============================] - 2s 1ms/step - loss: 0.4386 - accuracy: 0.8701 - val_loss: 0.4949 - val_accuracy: 0.8512\n",
            "Epoch 92/100\n",
            "1500/1500 [==============================] - 2s 1ms/step - loss: 0.4412 - accuracy: 0.8689 - val_loss: 0.5249 - val_accuracy: 0.8515\n",
            "Epoch 93/100\n",
            "1500/1500 [==============================] - 2s 1ms/step - loss: 0.4370 - accuracy: 0.8718 - val_loss: 0.4894 - val_accuracy: 0.8622\n",
            "Epoch 94/100\n",
            "1500/1500 [==============================] - 2s 1ms/step - loss: 0.4381 - accuracy: 0.8711 - val_loss: 0.4888 - val_accuracy: 0.8622\n",
            "Epoch 95/100\n",
            "1500/1500 [==============================] - 2s 1ms/step - loss: 0.4367 - accuracy: 0.8708 - val_loss: 0.5028 - val_accuracy: 0.8583\n",
            "Epoch 96/100\n",
            "1500/1500 [==============================] - 2s 1ms/step - loss: 0.4380 - accuracy: 0.8698 - val_loss: 0.4810 - val_accuracy: 0.8632\n",
            "Epoch 97/100\n",
            "1500/1500 [==============================] - 2s 1ms/step - loss: 0.4385 - accuracy: 0.8696 - val_loss: 0.5007 - val_accuracy: 0.8563\n",
            "Epoch 98/100\n",
            "1500/1500 [==============================] - 2s 1ms/step - loss: 0.4370 - accuracy: 0.8710 - val_loss: 0.5009 - val_accuracy: 0.8523\n",
            "Epoch 99/100\n",
            "1500/1500 [==============================] - 2s 1ms/step - loss: 0.4407 - accuracy: 0.8694 - val_loss: 0.4800 - val_accuracy: 0.8609\n",
            "Epoch 100/100\n",
            "1500/1500 [==============================] - 2s 1ms/step - loss: 0.4363 - accuracy: 0.8713 - val_loss: 0.4776 - val_accuracy: 0.8603\n"
          ]
        }
      ]
    },
    {
      "cell_type": "markdown",
      "source": [
        "I would we've trained our model pretty much with an accuracy around of **88%** now in Training samples.\n",
        "\n",
        "But was it because of setting learning rate only ? Not really. \n",
        "\n",
        "It may be because I let the model to train and learn the patterns for little longer i.e 100 epochs and I think let's increase it a little bit more as `200` epochs and see what happens.\n",
        "\n",
        "### Training the model little longer\n",
        "\n",
        "Let's increase the number of epochs and the plot the loss (or training) curves to know how did the performance change everytime the model had a change to look at the data (once every epoch) ?"
      ],
      "metadata": {
        "id": "-8Krus8OazRO"
      }
    },
    {
      "cell_type": "code",
      "source": [
        "# set the random seed\n",
        "tf.random.set_seed(17)\n",
        "\n",
        "# create a model\n",
        "model_5 = tf.keras.Sequential([\n",
        "  tf.keras.layers.Flatten(input_shape=(28,28)),\n",
        "  tf.keras.layers.Dense(4, activation='relu'),\n",
        "  tf.keras.layers.Dense(4, activation='relu'),\n",
        "  tf.keras.layers.Dense(10, activation='softmax')\n",
        "])\n",
        "\n",
        "# compile a model\n",
        "model_5.compile(loss='sparse_categorical_crossentropy',\n",
        "                optimizer=tf.keras.optimizers.Adam(learning_rate=0.001), # default\n",
        "                metrics=['accuracy'])\n",
        "\n",
        "# fit the model\n",
        "history_5 = model_5.fit(X_train_norm,\n",
        "                        y_train,\n",
        "                        epochs=200, # This time for longer peroid of epochs\n",
        "                        validation_data = (X_valid_norm, y_valid))"
      ],
      "metadata": {
        "colab": {
          "base_uri": "https://localhost:8080/"
        },
        "id": "Ih6ogqfMeKKC",
        "outputId": "5155c31a-22bf-4e78-fe05-a3d3ab93f0a0"
      },
      "execution_count": 34,
      "outputs": [
        {
          "output_type": "stream",
          "name": "stdout",
          "text": [
            "Epoch 1/200\n",
            "1500/1500 [==============================] - 3s 2ms/step - loss: 1.4868 - accuracy: 0.4670 - val_loss: 0.9892 - val_accuracy: 0.7036\n",
            "Epoch 2/200\n",
            "1500/1500 [==============================] - 2s 1ms/step - loss: 0.8228 - accuracy: 0.7546 - val_loss: 0.7323 - val_accuracy: 0.7837\n",
            "Epoch 3/200\n",
            "1500/1500 [==============================] - 2s 1ms/step - loss: 0.7065 - accuracy: 0.7875 - val_loss: 0.6910 - val_accuracy: 0.7921\n",
            "Epoch 4/200\n",
            "1500/1500 [==============================] - 2s 1ms/step - loss: 0.6661 - accuracy: 0.8008 - val_loss: 0.6584 - val_accuracy: 0.8046\n",
            "Epoch 5/200\n",
            "1500/1500 [==============================] - 2s 1ms/step - loss: 0.6395 - accuracy: 0.8078 - val_loss: 0.6314 - val_accuracy: 0.8148\n",
            "Epoch 6/200\n",
            "1500/1500 [==============================] - 2s 1ms/step - loss: 0.6170 - accuracy: 0.8138 - val_loss: 0.6209 - val_accuracy: 0.8179\n",
            "Epoch 7/200\n",
            "1500/1500 [==============================] - 2s 1ms/step - loss: 0.5966 - accuracy: 0.8207 - val_loss: 0.5997 - val_accuracy: 0.8263\n",
            "Epoch 8/200\n",
            "1500/1500 [==============================] - 2s 1ms/step - loss: 0.5748 - accuracy: 0.8284 - val_loss: 0.5784 - val_accuracy: 0.8324\n",
            "Epoch 9/200\n",
            "1500/1500 [==============================] - 2s 1ms/step - loss: 0.5508 - accuracy: 0.8375 - val_loss: 0.5514 - val_accuracy: 0.8428\n",
            "Epoch 10/200\n",
            "1500/1500 [==============================] - 2s 2ms/step - loss: 0.5328 - accuracy: 0.8447 - val_loss: 0.5572 - val_accuracy: 0.8393\n",
            "Epoch 11/200\n",
            "1500/1500 [==============================] - 2s 1ms/step - loss: 0.5171 - accuracy: 0.8501 - val_loss: 0.5492 - val_accuracy: 0.8397\n",
            "Epoch 12/200\n",
            "1500/1500 [==============================] - 2s 1ms/step - loss: 0.5050 - accuracy: 0.8527 - val_loss: 0.5250 - val_accuracy: 0.8535\n",
            "Epoch 13/200\n",
            "1500/1500 [==============================] - 2s 1ms/step - loss: 0.4960 - accuracy: 0.8553 - val_loss: 0.5109 - val_accuracy: 0.8581\n",
            "Epoch 14/200\n",
            "1500/1500 [==============================] - 2s 1ms/step - loss: 0.4881 - accuracy: 0.8581 - val_loss: 0.5120 - val_accuracy: 0.8520\n",
            "Epoch 15/200\n",
            "1500/1500 [==============================] - 2s 1ms/step - loss: 0.4796 - accuracy: 0.8612 - val_loss: 0.5043 - val_accuracy: 0.8590\n",
            "Epoch 16/200\n",
            "1500/1500 [==============================] - 2s 1ms/step - loss: 0.4741 - accuracy: 0.8629 - val_loss: 0.4922 - val_accuracy: 0.8635\n",
            "Epoch 17/200\n",
            "1500/1500 [==============================] - 2s 1ms/step - loss: 0.4680 - accuracy: 0.8660 - val_loss: 0.4884 - val_accuracy: 0.8635\n",
            "Epoch 18/200\n",
            "1500/1500 [==============================] - 2s 2ms/step - loss: 0.4628 - accuracy: 0.8668 - val_loss: 0.4912 - val_accuracy: 0.8633\n",
            "Epoch 19/200\n",
            "1500/1500 [==============================] - 2s 1ms/step - loss: 0.4587 - accuracy: 0.8689 - val_loss: 0.4883 - val_accuracy: 0.8601\n",
            "Epoch 20/200\n",
            "1500/1500 [==============================] - 2s 1ms/step - loss: 0.4544 - accuracy: 0.8694 - val_loss: 0.4919 - val_accuracy: 0.8602\n",
            "Epoch 21/200\n",
            "1500/1500 [==============================] - 2s 1ms/step - loss: 0.4510 - accuracy: 0.8705 - val_loss: 0.4838 - val_accuracy: 0.8624\n",
            "Epoch 22/200\n",
            "1500/1500 [==============================] - 2s 1ms/step - loss: 0.4468 - accuracy: 0.8706 - val_loss: 0.4752 - val_accuracy: 0.8643\n",
            "Epoch 23/200\n",
            "1500/1500 [==============================] - 2s 1ms/step - loss: 0.4442 - accuracy: 0.8720 - val_loss: 0.4766 - val_accuracy: 0.8658\n",
            "Epoch 24/200\n",
            "1500/1500 [==============================] - 2s 1ms/step - loss: 0.4410 - accuracy: 0.8735 - val_loss: 0.4690 - val_accuracy: 0.8694\n",
            "Epoch 25/200\n",
            "1500/1500 [==============================] - 2s 1ms/step - loss: 0.4393 - accuracy: 0.8737 - val_loss: 0.4709 - val_accuracy: 0.8674\n",
            "Epoch 26/200\n",
            "1500/1500 [==============================] - 2s 1ms/step - loss: 0.4372 - accuracy: 0.8744 - val_loss: 0.4639 - val_accuracy: 0.8704\n",
            "Epoch 27/200\n",
            "1500/1500 [==============================] - 2s 1ms/step - loss: 0.4349 - accuracy: 0.8748 - val_loss: 0.4686 - val_accuracy: 0.8697\n",
            "Epoch 28/200\n",
            "1500/1500 [==============================] - 2s 1ms/step - loss: 0.4332 - accuracy: 0.8759 - val_loss: 0.4729 - val_accuracy: 0.8675\n",
            "Epoch 29/200\n",
            "1500/1500 [==============================] - 2s 1ms/step - loss: 0.4324 - accuracy: 0.8759 - val_loss: 0.4620 - val_accuracy: 0.8705\n",
            "Epoch 30/200\n",
            "1500/1500 [==============================] - 2s 1ms/step - loss: 0.4304 - accuracy: 0.8765 - val_loss: 0.4629 - val_accuracy: 0.8723\n",
            "Epoch 31/200\n",
            "1500/1500 [==============================] - 2s 1ms/step - loss: 0.4292 - accuracy: 0.8768 - val_loss: 0.4576 - val_accuracy: 0.8720\n",
            "Epoch 32/200\n",
            "1500/1500 [==============================] - 2s 1ms/step - loss: 0.4275 - accuracy: 0.8773 - val_loss: 0.4570 - val_accuracy: 0.8710\n",
            "Epoch 33/200\n",
            "1500/1500 [==============================] - 2s 1ms/step - loss: 0.4261 - accuracy: 0.8766 - val_loss: 0.4585 - val_accuracy: 0.8705\n",
            "Epoch 34/200\n",
            "1500/1500 [==============================] - 2s 1ms/step - loss: 0.4249 - accuracy: 0.8790 - val_loss: 0.4606 - val_accuracy: 0.8718\n",
            "Epoch 35/200\n",
            "1500/1500 [==============================] - 2s 1ms/step - loss: 0.4246 - accuracy: 0.8791 - val_loss: 0.4634 - val_accuracy: 0.8726\n",
            "Epoch 36/200\n",
            "1500/1500 [==============================] - 2s 1ms/step - loss: 0.4227 - accuracy: 0.8780 - val_loss: 0.4539 - val_accuracy: 0.8733\n",
            "Epoch 37/200\n",
            "1500/1500 [==============================] - 2s 1ms/step - loss: 0.4224 - accuracy: 0.8784 - val_loss: 0.4632 - val_accuracy: 0.8703\n",
            "Epoch 38/200\n",
            "1500/1500 [==============================] - 2s 1ms/step - loss: 0.4207 - accuracy: 0.8784 - val_loss: 0.4572 - val_accuracy: 0.8732\n",
            "Epoch 39/200\n",
            "1500/1500 [==============================] - 2s 1ms/step - loss: 0.4201 - accuracy: 0.8803 - val_loss: 0.4599 - val_accuracy: 0.8697\n",
            "Epoch 40/200\n",
            "1500/1500 [==============================] - 2s 1ms/step - loss: 0.4192 - accuracy: 0.8790 - val_loss: 0.4573 - val_accuracy: 0.8730\n",
            "Epoch 41/200\n",
            "1500/1500 [==============================] - 2s 1ms/step - loss: 0.4189 - accuracy: 0.8788 - val_loss: 0.4582 - val_accuracy: 0.8761\n",
            "Epoch 42/200\n",
            "1500/1500 [==============================] - 2s 1ms/step - loss: 0.4179 - accuracy: 0.8804 - val_loss: 0.4575 - val_accuracy: 0.8727\n",
            "Epoch 43/200\n",
            "1500/1500 [==============================] - 2s 1ms/step - loss: 0.4162 - accuracy: 0.8797 - val_loss: 0.4546 - val_accuracy: 0.8742\n",
            "Epoch 44/200\n",
            "1500/1500 [==============================] - 2s 1ms/step - loss: 0.4161 - accuracy: 0.8808 - val_loss: 0.4575 - val_accuracy: 0.8737\n",
            "Epoch 45/200\n",
            "1500/1500 [==============================] - 2s 1ms/step - loss: 0.4155 - accuracy: 0.8799 - val_loss: 0.4661 - val_accuracy: 0.8698\n",
            "Epoch 46/200\n",
            "1500/1500 [==============================] - 2s 1ms/step - loss: 0.4149 - accuracy: 0.8802 - val_loss: 0.4601 - val_accuracy: 0.8729\n",
            "Epoch 47/200\n",
            "1500/1500 [==============================] - 2s 1ms/step - loss: 0.4139 - accuracy: 0.8803 - val_loss: 0.4615 - val_accuracy: 0.8734\n",
            "Epoch 48/200\n",
            "1500/1500 [==============================] - 2s 1ms/step - loss: 0.4126 - accuracy: 0.8816 - val_loss: 0.4527 - val_accuracy: 0.8751\n",
            "Epoch 49/200\n",
            "1500/1500 [==============================] - 2s 1ms/step - loss: 0.4129 - accuracy: 0.8805 - val_loss: 0.4581 - val_accuracy: 0.8721\n",
            "Epoch 50/200\n",
            "1500/1500 [==============================] - 2s 1ms/step - loss: 0.4126 - accuracy: 0.8813 - val_loss: 0.4515 - val_accuracy: 0.8762\n",
            "Epoch 51/200\n",
            "1500/1500 [==============================] - 2s 1ms/step - loss: 0.4116 - accuracy: 0.8814 - val_loss: 0.4585 - val_accuracy: 0.8736\n",
            "Epoch 52/200\n",
            "1500/1500 [==============================] - 2s 1ms/step - loss: 0.4107 - accuracy: 0.8816 - val_loss: 0.4535 - val_accuracy: 0.8752\n",
            "Epoch 53/200\n",
            "1500/1500 [==============================] - 2s 1ms/step - loss: 0.4100 - accuracy: 0.8813 - val_loss: 0.4631 - val_accuracy: 0.8720\n",
            "Epoch 54/200\n",
            "1500/1500 [==============================] - 2s 1ms/step - loss: 0.4104 - accuracy: 0.8817 - val_loss: 0.4544 - val_accuracy: 0.8742\n",
            "Epoch 55/200\n",
            "1500/1500 [==============================] - 2s 1ms/step - loss: 0.4094 - accuracy: 0.8831 - val_loss: 0.4601 - val_accuracy: 0.8733\n",
            "Epoch 56/200\n",
            "1500/1500 [==============================] - 2s 1ms/step - loss: 0.4084 - accuracy: 0.8815 - val_loss: 0.4617 - val_accuracy: 0.8700\n",
            "Epoch 57/200\n",
            "1500/1500 [==============================] - 2s 1ms/step - loss: 0.4085 - accuracy: 0.8823 - val_loss: 0.4543 - val_accuracy: 0.8748\n",
            "Epoch 58/200\n",
            "1500/1500 [==============================] - 2s 1ms/step - loss: 0.4079 - accuracy: 0.8829 - val_loss: 0.4541 - val_accuracy: 0.8748\n",
            "Epoch 59/200\n",
            "1500/1500 [==============================] - 2s 1ms/step - loss: 0.4080 - accuracy: 0.8830 - val_loss: 0.4495 - val_accuracy: 0.8754\n",
            "Epoch 60/200\n",
            "1500/1500 [==============================] - 2s 1ms/step - loss: 0.4074 - accuracy: 0.8825 - val_loss: 0.4483 - val_accuracy: 0.8761\n",
            "Epoch 61/200\n",
            "1500/1500 [==============================] - 2s 1ms/step - loss: 0.4075 - accuracy: 0.8831 - val_loss: 0.4524 - val_accuracy: 0.8753\n",
            "Epoch 62/200\n",
            "1500/1500 [==============================] - 2s 2ms/step - loss: 0.4058 - accuracy: 0.8830 - val_loss: 0.4560 - val_accuracy: 0.8729\n",
            "Epoch 63/200\n",
            "1500/1500 [==============================] - 2s 1ms/step - loss: 0.4058 - accuracy: 0.8833 - val_loss: 0.4704 - val_accuracy: 0.8684\n",
            "Epoch 64/200\n",
            "1500/1500 [==============================] - 2s 1ms/step - loss: 0.4060 - accuracy: 0.8835 - val_loss: 0.4485 - val_accuracy: 0.8769\n",
            "Epoch 65/200\n",
            "1500/1500 [==============================] - 2s 1ms/step - loss: 0.4047 - accuracy: 0.8838 - val_loss: 0.4496 - val_accuracy: 0.8778\n",
            "Epoch 66/200\n",
            "1500/1500 [==============================] - 2s 2ms/step - loss: 0.4049 - accuracy: 0.8838 - val_loss: 0.4517 - val_accuracy: 0.8733\n",
            "Epoch 67/200\n",
            "1500/1500 [==============================] - 2s 1ms/step - loss: 0.4044 - accuracy: 0.8832 - val_loss: 0.4455 - val_accuracy: 0.8756\n",
            "Epoch 68/200\n",
            "1500/1500 [==============================] - 2s 1ms/step - loss: 0.4044 - accuracy: 0.8835 - val_loss: 0.4489 - val_accuracy: 0.8743\n",
            "Epoch 69/200\n",
            "1500/1500 [==============================] - 2s 1ms/step - loss: 0.4040 - accuracy: 0.8839 - val_loss: 0.4536 - val_accuracy: 0.8733\n",
            "Epoch 70/200\n",
            "1500/1500 [==============================] - 2s 1ms/step - loss: 0.4027 - accuracy: 0.8845 - val_loss: 0.4546 - val_accuracy: 0.8767\n",
            "Epoch 71/200\n",
            "1500/1500 [==============================] - 2s 2ms/step - loss: 0.4033 - accuracy: 0.8840 - val_loss: 0.4507 - val_accuracy: 0.8731\n",
            "Epoch 72/200\n",
            "1500/1500 [==============================] - 2s 1ms/step - loss: 0.4021 - accuracy: 0.8854 - val_loss: 0.4447 - val_accuracy: 0.8759\n",
            "Epoch 73/200\n",
            "1500/1500 [==============================] - 2s 1ms/step - loss: 0.4029 - accuracy: 0.8834 - val_loss: 0.4447 - val_accuracy: 0.8769\n",
            "Epoch 74/200\n",
            "1500/1500 [==============================] - 2s 1ms/step - loss: 0.4022 - accuracy: 0.8844 - val_loss: 0.4454 - val_accuracy: 0.8764\n",
            "Epoch 75/200\n",
            "1500/1500 [==============================] - 2s 1ms/step - loss: 0.4025 - accuracy: 0.8852 - val_loss: 0.4474 - val_accuracy: 0.8755\n",
            "Epoch 76/200\n",
            "1500/1500 [==============================] - 2s 1ms/step - loss: 0.4026 - accuracy: 0.8843 - val_loss: 0.4491 - val_accuracy: 0.8737\n",
            "Epoch 77/200\n",
            "1500/1500 [==============================] - 2s 2ms/step - loss: 0.4024 - accuracy: 0.8849 - val_loss: 0.4481 - val_accuracy: 0.8755\n",
            "Epoch 78/200\n",
            "1500/1500 [==============================] - 2s 1ms/step - loss: 0.4010 - accuracy: 0.8851 - val_loss: 0.4480 - val_accuracy: 0.8758\n",
            "Epoch 79/200\n",
            "1500/1500 [==============================] - 2s 1ms/step - loss: 0.4010 - accuracy: 0.8842 - val_loss: 0.4527 - val_accuracy: 0.8741\n",
            "Epoch 80/200\n",
            "1500/1500 [==============================] - 2s 1ms/step - loss: 0.4009 - accuracy: 0.8843 - val_loss: 0.4478 - val_accuracy: 0.8764\n",
            "Epoch 81/200\n",
            "1500/1500 [==============================] - 2s 1ms/step - loss: 0.4005 - accuracy: 0.8848 - val_loss: 0.4470 - val_accuracy: 0.8752\n",
            "Epoch 82/200\n",
            "1500/1500 [==============================] - 2s 1ms/step - loss: 0.4001 - accuracy: 0.8851 - val_loss: 0.4546 - val_accuracy: 0.8728\n",
            "Epoch 83/200\n",
            "1500/1500 [==============================] - 2s 1ms/step - loss: 0.3999 - accuracy: 0.8847 - val_loss: 0.4520 - val_accuracy: 0.8761\n",
            "Epoch 84/200\n",
            "1500/1500 [==============================] - 2s 1ms/step - loss: 0.3999 - accuracy: 0.8847 - val_loss: 0.4585 - val_accuracy: 0.8733\n",
            "Epoch 85/200\n",
            "1500/1500 [==============================] - 2s 1ms/step - loss: 0.3993 - accuracy: 0.8858 - val_loss: 0.4499 - val_accuracy: 0.8744\n",
            "Epoch 86/200\n",
            "1500/1500 [==============================] - 2s 1ms/step - loss: 0.4000 - accuracy: 0.8847 - val_loss: 0.4521 - val_accuracy: 0.8733\n",
            "Epoch 87/200\n",
            "1500/1500 [==============================] - 2s 1ms/step - loss: 0.3987 - accuracy: 0.8856 - val_loss: 0.4466 - val_accuracy: 0.8761\n",
            "Epoch 88/200\n",
            "1500/1500 [==============================] - 3s 2ms/step - loss: 0.3981 - accuracy: 0.8861 - val_loss: 0.4570 - val_accuracy: 0.8730\n",
            "Epoch 89/200\n",
            "1500/1500 [==============================] - 2s 2ms/step - loss: 0.3986 - accuracy: 0.8852 - val_loss: 0.4470 - val_accuracy: 0.8767\n",
            "Epoch 90/200\n",
            "1500/1500 [==============================] - 2s 1ms/step - loss: 0.3987 - accuracy: 0.8847 - val_loss: 0.4483 - val_accuracy: 0.8756\n",
            "Epoch 91/200\n",
            "1500/1500 [==============================] - 3s 2ms/step - loss: 0.3984 - accuracy: 0.8845 - val_loss: 0.4457 - val_accuracy: 0.8748\n",
            "Epoch 92/200\n",
            "1500/1500 [==============================] - 2s 1ms/step - loss: 0.3978 - accuracy: 0.8847 - val_loss: 0.4462 - val_accuracy: 0.8783\n",
            "Epoch 93/200\n",
            "1500/1500 [==============================] - 2s 1ms/step - loss: 0.3980 - accuracy: 0.8855 - val_loss: 0.4517 - val_accuracy: 0.8764\n",
            "Epoch 94/200\n",
            "1500/1500 [==============================] - 2s 1ms/step - loss: 0.3980 - accuracy: 0.8851 - val_loss: 0.4503 - val_accuracy: 0.8758\n",
            "Epoch 95/200\n",
            "1500/1500 [==============================] - 2s 1ms/step - loss: 0.3984 - accuracy: 0.8846 - val_loss: 0.4519 - val_accuracy: 0.8745\n",
            "Epoch 96/200\n",
            "1500/1500 [==============================] - 2s 1ms/step - loss: 0.3982 - accuracy: 0.8861 - val_loss: 0.4467 - val_accuracy: 0.8752\n",
            "Epoch 97/200\n",
            "1500/1500 [==============================] - 2s 1ms/step - loss: 0.3975 - accuracy: 0.8859 - val_loss: 0.4500 - val_accuracy: 0.8743\n",
            "Epoch 98/200\n",
            "1500/1500 [==============================] - 2s 1ms/step - loss: 0.3967 - accuracy: 0.8857 - val_loss: 0.4432 - val_accuracy: 0.8755\n",
            "Epoch 99/200\n",
            "1500/1500 [==============================] - 2s 1ms/step - loss: 0.3968 - accuracy: 0.8860 - val_loss: 0.4452 - val_accuracy: 0.8763\n",
            "Epoch 100/200\n",
            "1500/1500 [==============================] - 3s 2ms/step - loss: 0.3964 - accuracy: 0.8866 - val_loss: 0.4529 - val_accuracy: 0.8710\n",
            "Epoch 101/200\n",
            "1500/1500 [==============================] - 2s 2ms/step - loss: 0.3960 - accuracy: 0.8849 - val_loss: 0.4448 - val_accuracy: 0.8762\n",
            "Epoch 102/200\n",
            "1500/1500 [==============================] - 2s 1ms/step - loss: 0.3960 - accuracy: 0.8857 - val_loss: 0.4454 - val_accuracy: 0.8758\n",
            "Epoch 103/200\n",
            "1500/1500 [==============================] - 2s 1ms/step - loss: 0.3970 - accuracy: 0.8850 - val_loss: 0.4551 - val_accuracy: 0.8723\n",
            "Epoch 104/200\n",
            "1500/1500 [==============================] - 2s 1ms/step - loss: 0.3960 - accuracy: 0.8857 - val_loss: 0.4521 - val_accuracy: 0.8720\n",
            "Epoch 105/200\n",
            "1500/1500 [==============================] - 2s 1ms/step - loss: 0.3965 - accuracy: 0.8854 - val_loss: 0.4460 - val_accuracy: 0.8756\n",
            "Epoch 106/200\n",
            "1500/1500 [==============================] - 2s 2ms/step - loss: 0.3953 - accuracy: 0.8861 - val_loss: 0.4466 - val_accuracy: 0.8749\n",
            "Epoch 107/200\n",
            "1500/1500 [==============================] - 2s 1ms/step - loss: 0.3958 - accuracy: 0.8867 - val_loss: 0.4462 - val_accuracy: 0.8776\n",
            "Epoch 108/200\n",
            "1500/1500 [==============================] - 2s 1ms/step - loss: 0.3957 - accuracy: 0.8869 - val_loss: 0.4559 - val_accuracy: 0.8735\n",
            "Epoch 109/200\n",
            "1500/1500 [==============================] - 2s 1ms/step - loss: 0.3950 - accuracy: 0.8851 - val_loss: 0.4445 - val_accuracy: 0.8759\n",
            "Epoch 110/200\n",
            "1500/1500 [==============================] - 2s 1ms/step - loss: 0.3959 - accuracy: 0.8855 - val_loss: 0.4427 - val_accuracy: 0.8769\n",
            "Epoch 111/200\n",
            "1500/1500 [==============================] - 2s 1ms/step - loss: 0.3960 - accuracy: 0.8853 - val_loss: 0.4439 - val_accuracy: 0.8774\n",
            "Epoch 112/200\n",
            "1500/1500 [==============================] - 2s 1ms/step - loss: 0.3958 - accuracy: 0.8850 - val_loss: 0.4440 - val_accuracy: 0.8747\n",
            "Epoch 113/200\n",
            "1500/1500 [==============================] - 2s 1ms/step - loss: 0.3945 - accuracy: 0.8866 - val_loss: 0.4475 - val_accuracy: 0.8755\n",
            "Epoch 114/200\n",
            "1500/1500 [==============================] - 2s 1ms/step - loss: 0.3953 - accuracy: 0.8854 - val_loss: 0.4446 - val_accuracy: 0.8750\n",
            "Epoch 115/200\n",
            "1500/1500 [==============================] - 2s 2ms/step - loss: 0.3951 - accuracy: 0.8866 - val_loss: 0.4440 - val_accuracy: 0.8752\n",
            "Epoch 116/200\n",
            "1500/1500 [==============================] - 2s 1ms/step - loss: 0.3942 - accuracy: 0.8861 - val_loss: 0.4470 - val_accuracy: 0.8763\n",
            "Epoch 117/200\n",
            "1500/1500 [==============================] - 2s 1ms/step - loss: 0.3948 - accuracy: 0.8862 - val_loss: 0.4473 - val_accuracy: 0.8754\n",
            "Epoch 118/200\n",
            "1500/1500 [==============================] - 2s 1ms/step - loss: 0.3937 - accuracy: 0.8866 - val_loss: 0.4469 - val_accuracy: 0.8751\n",
            "Epoch 119/200\n",
            "1500/1500 [==============================] - 2s 1ms/step - loss: 0.3944 - accuracy: 0.8850 - val_loss: 0.4476 - val_accuracy: 0.8746\n",
            "Epoch 120/200\n",
            "1500/1500 [==============================] - 2s 1ms/step - loss: 0.3936 - accuracy: 0.8862 - val_loss: 0.4472 - val_accuracy: 0.8756\n",
            "Epoch 121/200\n",
            "1500/1500 [==============================] - 2s 1ms/step - loss: 0.3939 - accuracy: 0.8866 - val_loss: 0.4434 - val_accuracy: 0.8756\n",
            "Epoch 122/200\n",
            "1500/1500 [==============================] - 2s 1ms/step - loss: 0.3937 - accuracy: 0.8858 - val_loss: 0.4453 - val_accuracy: 0.8758\n",
            "Epoch 123/200\n",
            "1500/1500 [==============================] - 2s 1ms/step - loss: 0.3930 - accuracy: 0.8868 - val_loss: 0.4458 - val_accuracy: 0.8756\n",
            "Epoch 124/200\n",
            "1500/1500 [==============================] - 2s 1ms/step - loss: 0.3934 - accuracy: 0.8860 - val_loss: 0.4447 - val_accuracy: 0.8749\n",
            "Epoch 125/200\n",
            "1500/1500 [==============================] - 2s 1ms/step - loss: 0.3945 - accuracy: 0.8856 - val_loss: 0.4462 - val_accuracy: 0.8766\n",
            "Epoch 126/200\n",
            "1500/1500 [==============================] - 2s 1ms/step - loss: 0.3933 - accuracy: 0.8854 - val_loss: 0.4499 - val_accuracy: 0.8725\n",
            "Epoch 127/200\n",
            "1500/1500 [==============================] - 2s 1ms/step - loss: 0.3931 - accuracy: 0.8862 - val_loss: 0.4447 - val_accuracy: 0.8763\n",
            "Epoch 128/200\n",
            "1500/1500 [==============================] - 2s 1ms/step - loss: 0.3936 - accuracy: 0.8862 - val_loss: 0.4474 - val_accuracy: 0.8769\n",
            "Epoch 129/200\n",
            "1500/1500 [==============================] - 2s 1ms/step - loss: 0.3929 - accuracy: 0.8867 - val_loss: 0.4480 - val_accuracy: 0.8748\n",
            "Epoch 130/200\n",
            "1500/1500 [==============================] - 2s 1ms/step - loss: 0.3933 - accuracy: 0.8860 - val_loss: 0.4448 - val_accuracy: 0.8747\n",
            "Epoch 131/200\n",
            "1500/1500 [==============================] - 2s 1ms/step - loss: 0.3917 - accuracy: 0.8867 - val_loss: 0.4491 - val_accuracy: 0.8752\n",
            "Epoch 132/200\n",
            "1500/1500 [==============================] - 2s 1ms/step - loss: 0.3924 - accuracy: 0.8862 - val_loss: 0.4479 - val_accuracy: 0.8723\n",
            "Epoch 133/200\n",
            "1500/1500 [==============================] - 2s 1ms/step - loss: 0.3939 - accuracy: 0.8865 - val_loss: 0.4442 - val_accuracy: 0.8769\n",
            "Epoch 134/200\n",
            "1500/1500 [==============================] - 2s 1ms/step - loss: 0.3923 - accuracy: 0.8871 - val_loss: 0.4441 - val_accuracy: 0.8761\n",
            "Epoch 135/200\n",
            "1500/1500 [==============================] - 2s 1ms/step - loss: 0.3924 - accuracy: 0.8867 - val_loss: 0.4495 - val_accuracy: 0.8744\n",
            "Epoch 136/200\n",
            "1500/1500 [==============================] - 2s 1ms/step - loss: 0.3915 - accuracy: 0.8867 - val_loss: 0.4510 - val_accuracy: 0.8742\n",
            "Epoch 137/200\n",
            "1500/1500 [==============================] - 2s 1ms/step - loss: 0.3918 - accuracy: 0.8866 - val_loss: 0.4475 - val_accuracy: 0.8747\n",
            "Epoch 138/200\n",
            "1500/1500 [==============================] - 2s 1ms/step - loss: 0.3922 - accuracy: 0.8863 - val_loss: 0.4437 - val_accuracy: 0.8783\n",
            "Epoch 139/200\n",
            "1500/1500 [==============================] - 2s 1ms/step - loss: 0.3912 - accuracy: 0.8871 - val_loss: 0.4508 - val_accuracy: 0.8758\n",
            "Epoch 140/200\n",
            "1500/1500 [==============================] - 2s 1ms/step - loss: 0.3907 - accuracy: 0.8864 - val_loss: 0.4447 - val_accuracy: 0.8760\n",
            "Epoch 141/200\n",
            "1500/1500 [==============================] - 2s 1ms/step - loss: 0.3907 - accuracy: 0.8877 - val_loss: 0.4560 - val_accuracy: 0.8724\n",
            "Epoch 142/200\n",
            "1500/1500 [==============================] - 2s 2ms/step - loss: 0.3911 - accuracy: 0.8873 - val_loss: 0.4465 - val_accuracy: 0.8746\n",
            "Epoch 143/200\n",
            "1500/1500 [==============================] - 2s 1ms/step - loss: 0.3913 - accuracy: 0.8866 - val_loss: 0.4530 - val_accuracy: 0.8742\n",
            "Epoch 144/200\n",
            "1500/1500 [==============================] - 2s 1ms/step - loss: 0.3915 - accuracy: 0.8861 - val_loss: 0.4466 - val_accuracy: 0.8739\n",
            "Epoch 145/200\n",
            "1500/1500 [==============================] - 3s 2ms/step - loss: 0.3900 - accuracy: 0.8868 - val_loss: 0.4536 - val_accuracy: 0.8743\n",
            "Epoch 146/200\n",
            "1500/1500 [==============================] - 2s 1ms/step - loss: 0.3908 - accuracy: 0.8863 - val_loss: 0.4437 - val_accuracy: 0.8753\n",
            "Epoch 147/200\n",
            "1500/1500 [==============================] - 2s 1ms/step - loss: 0.3893 - accuracy: 0.8883 - val_loss: 0.4487 - val_accuracy: 0.8743\n",
            "Epoch 148/200\n",
            "1500/1500 [==============================] - 2s 1ms/step - loss: 0.3898 - accuracy: 0.8877 - val_loss: 0.4455 - val_accuracy: 0.8742\n",
            "Epoch 149/200\n",
            "1500/1500 [==============================] - 2s 1ms/step - loss: 0.3911 - accuracy: 0.8868 - val_loss: 0.4491 - val_accuracy: 0.8751\n",
            "Epoch 150/200\n",
            "1500/1500 [==============================] - 3s 2ms/step - loss: 0.3897 - accuracy: 0.8875 - val_loss: 0.4465 - val_accuracy: 0.8733\n",
            "Epoch 151/200\n",
            "1500/1500 [==============================] - 2s 1ms/step - loss: 0.3901 - accuracy: 0.8874 - val_loss: 0.4427 - val_accuracy: 0.8756\n",
            "Epoch 152/200\n",
            "1500/1500 [==============================] - 2s 1ms/step - loss: 0.3898 - accuracy: 0.8877 - val_loss: 0.4433 - val_accuracy: 0.8763\n",
            "Epoch 153/200\n",
            "1500/1500 [==============================] - 2s 1ms/step - loss: 0.3893 - accuracy: 0.8877 - val_loss: 0.4432 - val_accuracy: 0.8758\n",
            "Epoch 154/200\n",
            "1500/1500 [==============================] - 2s 1ms/step - loss: 0.3898 - accuracy: 0.8873 - val_loss: 0.4454 - val_accuracy: 0.8736\n",
            "Epoch 155/200\n",
            "1500/1500 [==============================] - 2s 1ms/step - loss: 0.3895 - accuracy: 0.8859 - val_loss: 0.4464 - val_accuracy: 0.8776\n",
            "Epoch 156/200\n",
            "1500/1500 [==============================] - 2s 1ms/step - loss: 0.3894 - accuracy: 0.8879 - val_loss: 0.4432 - val_accuracy: 0.8778\n",
            "Epoch 157/200\n",
            "1500/1500 [==============================] - 2s 1ms/step - loss: 0.3886 - accuracy: 0.8875 - val_loss: 0.4488 - val_accuracy: 0.8744\n",
            "Epoch 158/200\n",
            "1500/1500 [==============================] - 2s 1ms/step - loss: 0.3896 - accuracy: 0.8866 - val_loss: 0.4425 - val_accuracy: 0.8737\n",
            "Epoch 159/200\n",
            "1500/1500 [==============================] - 2s 1ms/step - loss: 0.3883 - accuracy: 0.8872 - val_loss: 0.4449 - val_accuracy: 0.8763\n",
            "Epoch 160/200\n",
            "1500/1500 [==============================] - 2s 1ms/step - loss: 0.3888 - accuracy: 0.8866 - val_loss: 0.4636 - val_accuracy: 0.8692\n",
            "Epoch 161/200\n",
            "1500/1500 [==============================] - 2s 1ms/step - loss: 0.3883 - accuracy: 0.8878 - val_loss: 0.4442 - val_accuracy: 0.8763\n",
            "Epoch 162/200\n",
            "1500/1500 [==============================] - 2s 1ms/step - loss: 0.3883 - accuracy: 0.8875 - val_loss: 0.4445 - val_accuracy: 0.8748\n",
            "Epoch 163/200\n",
            "1500/1500 [==============================] - 2s 1ms/step - loss: 0.3887 - accuracy: 0.8866 - val_loss: 0.4413 - val_accuracy: 0.8745\n",
            "Epoch 164/200\n",
            "1500/1500 [==============================] - 2s 1ms/step - loss: 0.3891 - accuracy: 0.8867 - val_loss: 0.4428 - val_accuracy: 0.8754\n",
            "Epoch 165/200\n",
            "1500/1500 [==============================] - 2s 1ms/step - loss: 0.3887 - accuracy: 0.8867 - val_loss: 0.4400 - val_accuracy: 0.8775\n",
            "Epoch 166/200\n",
            "1500/1500 [==============================] - 2s 1ms/step - loss: 0.3887 - accuracy: 0.8866 - val_loss: 0.4518 - val_accuracy: 0.8742\n",
            "Epoch 167/200\n",
            "1500/1500 [==============================] - 2s 1ms/step - loss: 0.3876 - accuracy: 0.8877 - val_loss: 0.4539 - val_accuracy: 0.8750\n",
            "Epoch 168/200\n",
            "1500/1500 [==============================] - 2s 1ms/step - loss: 0.3875 - accuracy: 0.8868 - val_loss: 0.4490 - val_accuracy: 0.8742\n",
            "Epoch 169/200\n",
            "1500/1500 [==============================] - 2s 1ms/step - loss: 0.3880 - accuracy: 0.8861 - val_loss: 0.4457 - val_accuracy: 0.8770\n",
            "Epoch 170/200\n",
            "1500/1500 [==============================] - 2s 1ms/step - loss: 0.3874 - accuracy: 0.8874 - val_loss: 0.4415 - val_accuracy: 0.8752\n",
            "Epoch 171/200\n",
            "1500/1500 [==============================] - 2s 1ms/step - loss: 0.3880 - accuracy: 0.8864 - val_loss: 0.4471 - val_accuracy: 0.8773\n",
            "Epoch 172/200\n",
            "1500/1500 [==============================] - 2s 1ms/step - loss: 0.3873 - accuracy: 0.8875 - val_loss: 0.4480 - val_accuracy: 0.8767\n",
            "Epoch 173/200\n",
            "1500/1500 [==============================] - 2s 1ms/step - loss: 0.3868 - accuracy: 0.8876 - val_loss: 0.4545 - val_accuracy: 0.8730\n",
            "Epoch 174/200\n",
            "1500/1500 [==============================] - 2s 1ms/step - loss: 0.3871 - accuracy: 0.8869 - val_loss: 0.4454 - val_accuracy: 0.8755\n",
            "Epoch 175/200\n",
            "1500/1500 [==============================] - 2s 1ms/step - loss: 0.3868 - accuracy: 0.8871 - val_loss: 0.4431 - val_accuracy: 0.8774\n",
            "Epoch 176/200\n",
            "1500/1500 [==============================] - 2s 1ms/step - loss: 0.3867 - accuracy: 0.8870 - val_loss: 0.4458 - val_accuracy: 0.8758\n",
            "Epoch 177/200\n",
            "1500/1500 [==============================] - 2s 1ms/step - loss: 0.3874 - accuracy: 0.8871 - val_loss: 0.4415 - val_accuracy: 0.8750\n",
            "Epoch 178/200\n",
            "1500/1500 [==============================] - 2s 1ms/step - loss: 0.3866 - accuracy: 0.8873 - val_loss: 0.4441 - val_accuracy: 0.8758\n",
            "Epoch 179/200\n",
            "1500/1500 [==============================] - 3s 2ms/step - loss: 0.3871 - accuracy: 0.8875 - val_loss: 0.4464 - val_accuracy: 0.8729\n",
            "Epoch 180/200\n",
            "1500/1500 [==============================] - 2s 1ms/step - loss: 0.3864 - accuracy: 0.8870 - val_loss: 0.4431 - val_accuracy: 0.8737\n",
            "Epoch 181/200\n",
            "1500/1500 [==============================] - 2s 1ms/step - loss: 0.3857 - accuracy: 0.8874 - val_loss: 0.4518 - val_accuracy: 0.8740\n",
            "Epoch 182/200\n",
            "1500/1500 [==============================] - 2s 1ms/step - loss: 0.3865 - accuracy: 0.8861 - val_loss: 0.4405 - val_accuracy: 0.8761\n",
            "Epoch 183/200\n",
            "1500/1500 [==============================] - 2s 1ms/step - loss: 0.3860 - accuracy: 0.8869 - val_loss: 0.4428 - val_accuracy: 0.8743\n",
            "Epoch 184/200\n",
            "1500/1500 [==============================] - 2s 1ms/step - loss: 0.3859 - accuracy: 0.8865 - val_loss: 0.4480 - val_accuracy: 0.8752\n",
            "Epoch 185/200\n",
            "1500/1500 [==============================] - 2s 1ms/step - loss: 0.3863 - accuracy: 0.8873 - val_loss: 0.4414 - val_accuracy: 0.8767\n",
            "Epoch 186/200\n",
            "1500/1500 [==============================] - 2s 1ms/step - loss: 0.3854 - accuracy: 0.8870 - val_loss: 0.4418 - val_accuracy: 0.8767\n",
            "Epoch 187/200\n",
            "1500/1500 [==============================] - 2s 1ms/step - loss: 0.3853 - accuracy: 0.8874 - val_loss: 0.4452 - val_accuracy: 0.8766\n",
            "Epoch 188/200\n",
            "1500/1500 [==============================] - 2s 2ms/step - loss: 0.3866 - accuracy: 0.8864 - val_loss: 0.4418 - val_accuracy: 0.8759\n",
            "Epoch 189/200\n",
            "1500/1500 [==============================] - 2s 1ms/step - loss: 0.3861 - accuracy: 0.8877 - val_loss: 0.4414 - val_accuracy: 0.8755\n",
            "Epoch 190/200\n",
            "1500/1500 [==============================] - 2s 1ms/step - loss: 0.3856 - accuracy: 0.8874 - val_loss: 0.4490 - val_accuracy: 0.8736\n",
            "Epoch 191/200\n",
            "1500/1500 [==============================] - 2s 1ms/step - loss: 0.3858 - accuracy: 0.8865 - val_loss: 0.4476 - val_accuracy: 0.8758\n",
            "Epoch 192/200\n",
            "1500/1500 [==============================] - 2s 1ms/step - loss: 0.3851 - accuracy: 0.8880 - val_loss: 0.4453 - val_accuracy: 0.8761\n",
            "Epoch 193/200\n",
            "1500/1500 [==============================] - 2s 1ms/step - loss: 0.3855 - accuracy: 0.8873 - val_loss: 0.4505 - val_accuracy: 0.8751\n",
            "Epoch 194/200\n",
            "1500/1500 [==============================] - 2s 1ms/step - loss: 0.3860 - accuracy: 0.8864 - val_loss: 0.4488 - val_accuracy: 0.8734\n",
            "Epoch 195/200\n",
            "1500/1500 [==============================] - 2s 1ms/step - loss: 0.3856 - accuracy: 0.8867 - val_loss: 0.4470 - val_accuracy: 0.8737\n",
            "Epoch 196/200\n",
            "1500/1500 [==============================] - 2s 1ms/step - loss: 0.3860 - accuracy: 0.8871 - val_loss: 0.4419 - val_accuracy: 0.8757\n",
            "Epoch 197/200\n",
            "1500/1500 [==============================] - 2s 1ms/step - loss: 0.3851 - accuracy: 0.8871 - val_loss: 0.4459 - val_accuracy: 0.8747\n",
            "Epoch 198/200\n",
            "1500/1500 [==============================] - 2s 1ms/step - loss: 0.3850 - accuracy: 0.8866 - val_loss: 0.4532 - val_accuracy: 0.8728\n",
            "Epoch 199/200\n",
            "1500/1500 [==============================] - 2s 1ms/step - loss: 0.3854 - accuracy: 0.8877 - val_loss: 0.4478 - val_accuracy: 0.8759\n",
            "Epoch 200/200\n",
            "1500/1500 [==============================] - 2s 1ms/step - loss: 0.3852 - accuracy: 0.8874 - val_loss: 0.4428 - val_accuracy: 0.8764\n"
          ]
        }
      ]
    },
    {
      "cell_type": "markdown",
      "source": [
        "It seems no difference at all.\n",
        "\n",
        "How about plotting the loss curve."
      ],
      "metadata": {
        "id": "oZ30nar5es6W"
      }
    },
    {
      "cell_type": "code",
      "source": [
        "history_df = pd.DataFrame(history_5.history)"
      ],
      "metadata": {
        "id": "anDvCBH4i3Fi"
      },
      "execution_count": 57,
      "outputs": []
    },
    {
      "cell_type": "code",
      "source": [
        "plt.subplots(figsize=(17, 7))\n",
        "plt.plot(history_df['loss'])\n",
        "plt.plot(history_df['accuracy'])\n",
        "plt.xlabel('Epochs')\n",
        "plt.ylabel('Loss')\n",
        "plt.title('Title');"
      ],
      "metadata": {
        "colab": {
          "base_uri": "https://localhost:8080/",
          "height": 458
        },
        "id": "pmw384nmi8gh",
        "outputId": "b88f485b-880b-4521-f738-8a1eade1d1d0"
      },
      "execution_count": 58,
      "outputs": [
        {
          "output_type": "display_data",
          "data": {
            "text/plain": [
              "<Figure size 1224x504 with 1 Axes>"
            ],
            "image/png": "[encoded data removed]"
          },
          "metadata": {
            "needs_background": "light"
          }
        }
      ]
    },
    {
      "cell_type": "markdown",
      "source": [
        "It seems like even we increase the number of epochs the loss will decrease constantly for longer period of time but it'll not drastically decrease upto 0 and increase the accuracy to upto `99%`. May be we can find another way to tune our model and get the higher accuracy."
      ],
      "metadata": {
        "id": "eJqgPpYXk9bC"
      }
    },
    {
      "cell_type": "markdown",
      "source": [
        "Let's tweak with Neural Network layers and it's units."
      ],
      "metadata": {
        "id": "4QFZz1_9mMBE"
      }
    },
    {
      "cell_type": "markdown",
      "source": [
        "### Adjusting Neural Network layers and neurons\n",
        "\n",
        "We can add more layers and increase the neurons in each layer."
      ],
      "metadata": {
        "id": "NEUWYn5HmRhL"
      }
    }
  ]
}