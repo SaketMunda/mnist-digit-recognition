{
  "nbformat": 4,
  "nbformat_minor": 0,
  "metadata": {
    "colab": {
      "provenance": [],
      "authorship_tag": "ABX9TyPlO/9ASQCcfe/LhhDQZ7nU",
      "include_colab_link": true
    },
    "kernelspec": {
      "name": "python3",
      "display_name": "Python 3"
    },
    "language_info": {
      "name": "python"
    }
  },
  "cells": [
    {
      "cell_type": "markdown",
      "metadata": {
        "id": "view-in-github",
        "colab_type": "text"
      },
      "source": [
        "<a href=\"https://colab.research.google.com/github/SaketMunda/mnist-digit-recognition/blob/master/recognise_handwritten_digits.ipynb\" target=\"_parent\"><img src=\"https://colab.research.google.com/assets/colab-badge.svg\" alt=\"Open In Colab\"/></a>"
      ]
    },
    {
      "cell_type": "markdown",
      "source": [
        "# Handwritten Digit Recognition\n",
        "\n",
        "Deep Learning model for Handwritten Digit Recognition using TensorFlow and Neural Network Techniques\n",
        "\n",
        "## 1. Problem Definition ⛑\n",
        "\n",
        "Recognise handwritten digit, from a dataset which contains B&W images of each digit written on 28x28 pixel box, given by [The MNIST DATABASE](http://yann.lecun.com/exdb/mnist/) "
      ],
      "metadata": {
        "id": "O7o-vJCUoMr7"
      }
    },
    {
      "cell_type": "code",
      "source": [],
      "metadata": {
        "id": "_BIXOY5lq_NE"
      },
      "execution_count": null,
      "outputs": []
    }
  ]
}