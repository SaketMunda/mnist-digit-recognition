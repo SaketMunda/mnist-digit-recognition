{
  "nbformat": 4,
  "nbformat_minor": 0,
  "metadata": {
    "colab": {
      "provenance": [],
      "collapsed_sections": [],
      "toc_visible": true,
      "mount_file_id": "1bslYAz5kSdbjxBr5EtOXz6lbOhhf3nii",
      "authorship_tag": "ABX9TyNDprIvFcvtz6dxRA9YA4QN",
      "include_colab_link": true
    },
    "kernelspec": {
      "name": "python3",
      "display_name": "Python 3"
    },
    "language_info": {
      "name": "python"
    },
    "accelerator": "GPU"
  },
  "cells": [
    {
      "cell_type": "markdown",
      "metadata": {
        "id": "view-in-github",
        "colab_type": "text"
      },
      "source": [
        "<a href=\"https://colab.research.google.com/github/SaketMunda/mnist-digit-recognition/blob/master/recognise_handwritten_digits.ipynb\" target=\"_parent\"><img src=\"https://colab.research.google.com/assets/colab-badge.svg\" alt=\"Open In Colab\"/></a>"
      ]
    },
    {
      "cell_type": "markdown",
      "source": [
        "# Handwritten Digit Recognition\n",
        "\n",
        "Deep Learning model for Handwritten Digit Recognition using TensorFlow and Neural Network Techniques\n",
        "\n",
        "## 1. Problem Definition ⛑\n",
        "\n",
        "Recognise handwritten digit, from a dataset which contains B&W images of each digit written on 28x28 pixel box.\n",
        "\n",
        "## 2. Data \n",
        "\n",
        "The data we're using is officially provided by [The MNIST DATABASE](http://yann.lecun.com/exdb/mnist/)\n",
        "\n",
        "The digits have been sized-normalized and centered in a fixed-sized image.\n",
        "\n",
        "The data is quite preprocessed and well-formatted.\n",
        "\n",
        "## 3. Evaluation\n",
        "\n",
        "Test Error Rate(%) should be lower than 1.0\n",
        "\n",
        "## 4. Features\n",
        "\n",
        "Some information about the data,\n",
        "* We're dealing with images(unstructured data) so it's probably best we use deep learning/transfer learning technique to solve this problem.\n",
        "* There are around a 60,000 examples of training set. \n",
        "* There are around a 10,000 examples of test set."
      ],
      "metadata": {
        "id": "O7o-vJCUoMr7"
      }
    },
    {
      "cell_type": "markdown",
      "source": [
        "## Get Workspace ready !\n",
        "\n",
        "* Import Tensorflow\n",
        "* Import Tensorflow hub\n",
        "* Check if GPU is running or not"
      ],
      "metadata": {
        "id": "oAfdV77pFsDI"
      }
    },
    {
      "cell_type": "code",
      "source": [
        "# import tensorflow\n",
        "import tensorflow as tf\n",
        "print(tf.__version__)"
      ],
      "metadata": {
        "id": "_BIXOY5lq_NE",
        "colab": {
          "base_uri": "https://localhost:8080/"
        },
        "outputId": "bfb3d4ad-ef86-4b40-cef8-1a3164d82e48"
      },
      "execution_count": 1,
      "outputs": [
        {
          "output_type": "stream",
          "name": "stdout",
          "text": [
            "2.9.2\n"
          ]
        }
      ]
    },
    {
      "cell_type": "code",
      "source": [
        "# import tensorflow hub\n",
        "import tensorflow_hub as hub\n",
        "print(hub.__version__)"
      ],
      "metadata": {
        "colab": {
          "base_uri": "https://localhost:8080/"
        },
        "id": "Ci5xx0QgFe4I",
        "outputId": "4cacff62-efe9-4444-ef8a-cdb676c6328d"
      },
      "execution_count": 2,
      "outputs": [
        {
          "output_type": "stream",
          "name": "stdout",
          "text": [
            "0.12.0\n"
          ]
        }
      ]
    },
    {
      "cell_type": "code",
      "source": [
        "# check for GPU availibility\n",
        "print(\"GPU\", \"available (YES !!!!!!)\"if tf.config.list_physical_devices(\"GPU\") else \"not available :(\")"
      ],
      "metadata": {
        "colab": {
          "base_uri": "https://localhost:8080/"
        },
        "id": "7Yern88eF5dX",
        "outputId": "30ea8e08-cbb2-49a9-d38d-1e3064f147e7"
      },
      "execution_count": 3,
      "outputs": [
        {
          "output_type": "stream",
          "name": "stdout",
          "text": [
            "GPU available (YES !!!!!!)\n"
          ]
        }
      ]
    },
    {
      "cell_type": "markdown",
      "source": [
        "## Getting our data ready\n",
        "\n",
        "I've manually downloaded the data from MNIST database, and uploaded into my Google drive.\n",
        "\n",
        "### Load the data\n",
        "\n",
        "We have the data in gzip and IDX format so have to un-gzip the files and then read the IDX file using numpy. "
      ],
      "metadata": {
        "id": "5BNIeOKtHem7"
      }
    },
    {
      "cell_type": "code",
      "source": [
        "import gzip\n",
        "import numpy as np"
      ],
      "metadata": {
        "id": "iKgbFwzSIyIW"
      },
      "execution_count": 7,
      "outputs": []
    },
    {
      "cell_type": "code",
      "source": [
        "# Create a function to read the mnist data\n",
        "def read_mnist(images_path: str, labels_path:str):\n",
        "  with gzip.open(labels_path,'rb') as labelsFile:\n",
        "    labels = np.frombuffer(labelsFile.read(), dtype=np.uint8, offset=8)\n",
        "  with gzip.open(images_path, 'rb') as imagesFile:\n",
        "    length = len(labels)\n",
        "    # Load flat 28x28 px images (784px), and convert them to 28x28 px\n",
        "    features = np.frombuffer(imagesFile.read(), dtype=np.uint8, offset=16) \\\n",
        "                   .reshape(length, 784) \\\n",
        "                   .reshape(length, 28, 28, 1)\n",
        "  return features, labels"
      ],
      "metadata": {
        "id": "UrtVG0cWMwci"
      },
      "execution_count": 8,
      "outputs": []
    },
    {
      "cell_type": "code",
      "source": [
        "train = {}\n",
        "test = {}\n",
        "\n",
        "train['features'], train['labels'] = read_mnist('drive/MyDrive/Data Science/MNIST Handwritten Digits/data/train-images-idx3-ubyte.gz', \n",
        "                                                'drive/MyDrive/Data Science/MNIST Handwritten Digits/data/train-labels-idx1-ubyte.gz')\n",
        "\n",
        "test['features'], test['labels'] = read_mnist('drive/MyDrive/Data Science/MNIST Handwritten Digits/data/t10k-images-idx3-ubyte.gz',\n",
        "                                              'drive/MyDrive/Data Science/MNIST Handwritten Digits/data/t10k-labels-idx1-ubyte.gz')"
      ],
      "metadata": {
        "id": "H_cBnMOIN_tL"
      },
      "execution_count": 9,
      "outputs": []
    },
    {
      "cell_type": "markdown",
      "source": [
        "### Explore the data\n",
        "\n",
        "Before going further and jumping directly to any step, exploring the data will help us to decide what are the things we need to do with our data,\n",
        "* Find outliers\n",
        "* If we need a preprocessing phase to uniform\n",
        "* Check the number of images and labels\n",
        "* Visualize some numbers"
      ],
      "metadata": {
        "id": "zzuSwdtsO9wM"
      }
    },
    {
      "cell_type": "code",
      "source": [
        "# Number of training samples\n",
        "train[\"features\"].shape[0], train[\"labels\"].shape[0]"
      ],
      "metadata": {
        "colab": {
          "base_uri": "https://localhost:8080/"
        },
        "id": "OWBVWGDSPy74",
        "outputId": "d02e7889-145e-4e6a-f868-6bf2ac3dea06"
      },
      "execution_count": 31,
      "outputs": [
        {
          "output_type": "execute_result",
          "data": {
            "text/plain": [
              "(60000, 60000)"
            ]
          },
          "metadata": {},
          "execution_count": 31
        }
      ]
    },
    {
      "cell_type": "code",
      "source": [
        "# Number of test samples\n",
        "test[\"features\"].shape[0], test[\"labels\"].shape[0]"
      ],
      "metadata": {
        "colab": {
          "base_uri": "https://localhost:8080/"
        },
        "id": "ckmKtpRAQGPu",
        "outputId": "a97ea390-9412-4af8-cc36-d6e1ccba08fa"
      },
      "execution_count": 30,
      "outputs": [
        {
          "output_type": "execute_result",
          "data": {
            "text/plain": [
              "(10000, 10000)"
            ]
          },
          "metadata": {},
          "execution_count": 30
        }
      ]
    },
    {
      "cell_type": "code",
      "source": [
        "# Splitting into separate train and test variables\n",
        "X_train = train[\"features\"]\n",
        "y_train = train[\"labels\"]\n",
        "\n",
        "X_test = test[\"features\"]\n",
        "y_test = test[\"labels\"]"
      ],
      "metadata": {
        "id": "FPC1R0LyQgKK"
      },
      "execution_count": 24,
      "outputs": []
    },
    {
      "cell_type": "code",
      "source": [
        "# let's see some attributes of the data\n",
        "X_train[0].ndim, X_train[0].shape"
      ],
      "metadata": {
        "colab": {
          "base_uri": "https://localhost:8080/"
        },
        "id": "6_IeGlb1RPB6",
        "outputId": "e189d8a7-cbb6-4867-ee12-4e8445902582"
      },
      "execution_count": 29,
      "outputs": [
        {
          "output_type": "execute_result",
          "data": {
            "text/plain": [
              "(3, (28, 28, 1))"
            ]
          },
          "metadata": {},
          "execution_count": 29
        }
      ]
    },
    {
      "cell_type": "code",
      "source": [
        "# observing the data\n",
        "# X_train[0]\n",
        "# commented this to avoid scorlling"
      ],
      "metadata": {
        "id": "CmSIQNzwRcR5"
      },
      "execution_count": 34,
      "outputs": []
    },
    {
      "cell_type": "markdown",
      "source": [
        "### Visualize the data\n",
        "\n",
        "It didn't really say anything. We must plot it using matplotlib since the values that are in the form of array is the value of grayscale between the value of Black and White."
      ],
      "metadata": {
        "id": "R4bM7yKER6eQ"
      }
    },
    {
      "cell_type": "code",
      "source": [
        "import matplotlib.pyplot as plt"
      ],
      "metadata": {
        "id": "qms5Qd4_SetZ"
      },
      "execution_count": 33,
      "outputs": []
    },
    {
      "cell_type": "code",
      "source": [
        "def display_image(index):\n",
        "  image = X_train[index].squeeze()\n",
        "  plt.title(f\"Index {index} Label: {y_train[index]}\")\n",
        "  plt.imshow(image, cmap=plt.cm.gray_r)"
      ],
      "metadata": {
        "id": "Pi21HW7qSjuI"
      },
      "execution_count": 39,
      "outputs": []
    },
    {
      "cell_type": "code",
      "source": [
        "display_image(0)"
      ],
      "metadata": {
        "colab": {
          "base_uri": "https://localhost:8080/",
          "height": 281
        },
        "id": "C-WJsfXGS8eT",
        "outputId": "916bed22-3721-4485-a0b1-d2e8722b02ab"
      },
      "execution_count": 40,
      "outputs": [
        {
          "output_type": "display_data",
          "data": {
            "text/plain": [
              "<Figure size 432x288 with 1 Axes>"
            ],
            "image/png": "[encoded data removed]"
          },
          "metadata": {
            "needs_background": "light"
          }
        }
      ]
    },
    {
      "cell_type": "code",
      "source": [
        "display_image(5)"
      ],
      "metadata": {
        "colab": {
          "base_uri": "https://localhost:8080/",
          "height": 281
        },
        "id": "JFK_osqLYf6g",
        "outputId": "21725793-147b-45b6-d850-299124f12c3e"
      },
      "execution_count": 41,
      "outputs": [
        {
          "output_type": "display_data",
          "data": {
            "text/plain": [
              "<Figure size 432x288 with 1 Axes>"
            ],
            "image/png": "[encoded data removed]"
          },
          "metadata": {
            "needs_background": "light"
          }
        }
      ]
    },
    {
      "cell_type": "markdown",
      "source": [
        "Let's identify how many labels we have in our training set and their corresponding images."
      ],
      "metadata": {
        "id": "oLuRjAvcY_9J"
      }
    },
    {
      "cell_type": "code",
      "source": [
        "import pandas as pd\n",
        "train_label_counts = np.unique(y_train, return_counts=True)\n",
        "train_label_df = pd.DataFrame({\"Label\": train_label_counts[0], \"Count\":train_label_counts[1]})\n",
        "train_label_df"
      ],
      "metadata": {
        "colab": {
          "base_uri": "https://localhost:8080/",
          "height": 363
        },
        "id": "dmQI4TJsZVdb",
        "outputId": "76dc9806-565f-4fa3-f3f5-a35505fc946a"
      },
      "execution_count": 47,
      "outputs": [
        {
          "output_type": "execute_result",
          "data": {
            "text/plain": [
              "   Label  Count\n",
              "0      0   5923\n",
              "1      1   6742\n",
              "2      2   5958\n",
              "3      3   6131\n",
              "4      4   5842\n",
              "5      5   5421\n",
              "6      6   5918\n",
              "7      7   6265\n",
              "8      8   5851\n",
              "9      9   5949"
            ],
            "text/html": [
              "\n",
              "  <div id=\"df-de80bb86-a7ae-47da-9261-2f0c2d901f2c\">\n",
              "    <div class=\"colab-df-container\">\n",
              "      <div>\n",
              "<style scoped>\n",
              "    .dataframe tbody tr th:only-of-type {\n",
              "        vertical-align: middle;\n",
              "    }\n",
              "\n",
              "    .dataframe tbody tr th {\n",
              "        vertical-align: top;\n",
              "    }\n",
              "\n",
              "    .dataframe thead th {\n",
              "        text-align: right;\n",
              "    }\n",
              "</style>\n",
              "<table border=\"1\" class=\"dataframe\">\n",
              "  <thead>\n",
              "    <tr style=\"text-align: right;\">\n",
              "      <th></th>\n",
              "      <th>Label</th>\n",
              "      <th>Count</th>\n",
              "    </tr>\n",
              "  </thead>\n",
              "  <tbody>\n",
              "    <tr>\n",
              "      <th>0</th>\n",
              "      <td>0</td>\n",
              "      <td>5923</td>\n",
              "    </tr>\n",
              "    <tr>\n",
              "      <th>1</th>\n",
              "      <td>1</td>\n",
              "      <td>6742</td>\n",
              "    </tr>\n",
              "    <tr>\n",
              "      <th>2</th>\n",
              "      <td>2</td>\n",
              "      <td>5958</td>\n",
              "    </tr>\n",
              "    <tr>\n",
              "      <th>3</th>\n",
              "      <td>3</td>\n",
              "      <td>6131</td>\n",
              "    </tr>\n",
              "    <tr>\n",
              "      <th>4</th>\n",
              "      <td>4</td>\n",
              "      <td>5842</td>\n",
              "    </tr>\n",
              "    <tr>\n",
              "      <th>5</th>\n",
              "      <td>5</td>\n",
              "      <td>5421</td>\n",
              "    </tr>\n",
              "    <tr>\n",
              "      <th>6</th>\n",
              "      <td>6</td>\n",
              "      <td>5918</td>\n",
              "    </tr>\n",
              "    <tr>\n",
              "      <th>7</th>\n",
              "      <td>7</td>\n",
              "      <td>6265</td>\n",
              "    </tr>\n",
              "    <tr>\n",
              "      <th>8</th>\n",
              "      <td>8</td>\n",
              "      <td>5851</td>\n",
              "    </tr>\n",
              "    <tr>\n",
              "      <th>9</th>\n",
              "      <td>9</td>\n",
              "      <td>5949</td>\n",
              "    </tr>\n",
              "  </tbody>\n",
              "</table>\n",
              "</div>\n",
              "      <button class=\"colab-df-convert\" onclick=\"convertToInteractive('df-de80bb86-a7ae-47da-9261-2f0c2d901f2c')\"\n",
              "              title=\"Convert this dataframe to an interactive table.\"\n",
              "              style=\"display:none;\">\n",
              "        \n",
              "  <svg xmlns=\"http://www.w3.org/2000/svg\" height=\"24px\"viewBox=\"0 0 24 24\"\n",
              "       width=\"24px\">\n",
              "    <path d=\"M0 0h24v24H0V0z\" fill=\"none\"/>\n",
              "    <path d=\"M18.56 5.44l.94 2.06.94-2.06 2.06-.94-2.06-.94-.94-2.06-.94 2.06-2.06.94zm-11 1L8.5 8.5l.94-2.06 2.06-.94-2.06-.94L8.5 2.5l-.94 2.06-2.06.94zm10 10l.94 2.06.94-2.06 2.06-.94-2.06-.94-.94-2.06-.94 2.06-2.06.94z\"/><path d=\"M17.41 7.96l-1.37-1.37c-.4-.4-.92-.59-1.43-.59-.52 0-1.04.2-1.43.59L10.3 9.45l-7.72 7.72c-.78.78-.78 2.05 0 2.83L4 21.41c.39.39.9.59 1.41.59.51 0 1.02-.2 1.41-.59l7.78-7.78 2.81-2.81c.8-.78.8-2.07 0-2.86zM5.41 20L4 18.59l7.72-7.72 1.47 1.35L5.41 20z\"/>\n",
              "  </svg>\n",
              "      </button>\n",
              "      \n",
              "  <style>\n",
              "    .colab-df-container {\n",
              "      display:flex;\n",
              "      flex-wrap:wrap;\n",
              "      gap: 12px;\n",
              "    }\n",
              "\n",
              "    .colab-df-convert {\n",
              "      background-color: #E8F0FE;\n",
              "      border: none;\n",
              "      border-radius: 50%;\n",
              "      cursor: pointer;\n",
              "      display: none;\n",
              "      fill: #1967D2;\n",
              "      height: 32px;\n",
              "      padding: 0 0 0 0;\n",
              "      width: 32px;\n",
              "    }\n",
              "\n",
              "    .colab-df-convert:hover {\n",
              "      background-color: #E2EBFA;\n",
              "      box-shadow: 0px 1px 2px rgba(60, 64, 67, 0.3), 0px 1px 3px 1px rgba(60, 64, 67, 0.15);\n",
              "      fill: #174EA6;\n",
              "    }\n",
              "\n",
              "    [theme=dark] .colab-df-convert {\n",
              "      background-color: #3B4455;\n",
              "      fill: #D2E3FC;\n",
              "    }\n",
              "\n",
              "    [theme=dark] .colab-df-convert:hover {\n",
              "      background-color: #434B5C;\n",
              "      box-shadow: 0px 1px 3px 1px rgba(0, 0, 0, 0.15);\n",
              "      filter: drop-shadow(0px 1px 2px rgba(0, 0, 0, 0.3));\n",
              "      fill: #FFFFFF;\n",
              "    }\n",
              "  </style>\n",
              "\n",
              "      <script>\n",
              "        const buttonEl =\n",
              "          document.querySelector('#df-de80bb86-a7ae-47da-9261-2f0c2d901f2c button.colab-df-convert');\n",
              "        buttonEl.style.display =\n",
              "          google.colab.kernel.accessAllowed ? 'block' : 'none';\n",
              "\n",
              "        async function convertToInteractive(key) {\n",
              "          const element = document.querySelector('#df-de80bb86-a7ae-47da-9261-2f0c2d901f2c');\n",
              "          const dataTable =\n",
              "            await google.colab.kernel.invokeFunction('convertToInteractive',\n",
              "                                                     [key], {});\n",
              "          if (!dataTable) return;\n",
              "\n",
              "          const docLinkHtml = 'Like what you see? Visit the ' +\n",
              "            '<a target=\"_blank\" href=https://colab.research.google.com/notebooks/data_table.ipynb>data table notebook</a>'\n",
              "            + ' to learn more about interactive tables.';\n",
              "          element.innerHTML = '';\n",
              "          dataTable['output_type'] = 'display_data';\n",
              "          await google.colab.output.renderOutput(dataTable, element);\n",
              "          const docLink = document.createElement('div');\n",
              "          docLink.innerHTML = docLinkHtml;\n",
              "          element.appendChild(docLink);\n",
              "        }\n",
              "      </script>\n",
              "    </div>\n",
              "  </div>\n",
              "  "
            ]
          },
          "metadata": {},
          "execution_count": 47
        }
      ]
    },
    {
      "cell_type": "markdown",
      "source": [
        "It says, Digit `1` has 6742 samples, `2` has 5958, `3` has 6131 samples and so on... available in training dataset."
      ],
      "metadata": {
        "id": "FVPzOuuQZcLC"
      }
    },
    {
      "cell_type": "markdown",
      "source": [
        "Also by observing the data it looks like that it's already converted into numbers and it's ready to fit in into the model.\n",
        "\n",
        "\n",
        "### Split the data into 3 set (Training, Validation and Test)\n",
        "\n",
        "But as the rule suggests, we must divide the samples into 3 sets, (Training, Validation and Test set).\n",
        "\n",
        "Since we already have the test set available, so we only need to divide the validation test which we split it from training samples.\n",
        "\n",
        "* Training Samples : (48K)\n",
        "* Validation Samples : (12K)\n",
        "* Test Samples : (10K)"
      ],
      "metadata": {
        "id": "AMXkrLoxanRW"
      }
    },
    {
      "cell_type": "code",
      "source": [
        "# importing train test split library from scikit-learn\n",
        "from sklearn.model_selection import train_test_split\n",
        "\n",
        "X_train, X_valid, y_train, y_valid = train_test_split(X_train, y_train, test_size=0.2, random_state=17)"
      ],
      "metadata": {
        "id": "p1pynydlcKx_"
      },
      "execution_count": 50,
      "outputs": []
    },
    {
      "cell_type": "code",
      "source": [
        "# see the number of splitted data\n",
        "X_train.shape[0], X_valid.shape[0]"
      ],
      "metadata": {
        "colab": {
          "base_uri": "https://localhost:8080/"
        },
        "id": "2yhIfl4CcPYW",
        "outputId": "ff6282d7-4e1a-42ac-f29c-bc63fb4e88d5"
      },
      "execution_count": 51,
      "outputs": [
        {
          "output_type": "execute_result",
          "data": {
            "text/plain": [
              "(48000, 12000)"
            ]
          },
          "metadata": {},
          "execution_count": 51
        }
      ]
    },
    {
      "cell_type": "markdown",
      "source": [
        "and now if we compare the lables in each set, after splitting"
      ],
      "metadata": {
        "id": "PCk4x0sXcrSR"
      }
    },
    {
      "cell_type": "code",
      "source": [
        "np.unique(y_train, return_counts=True), np.unique(y_valid, return_counts=True)"
      ],
      "metadata": {
        "colab": {
          "base_uri": "https://localhost:8080/"
        },
        "id": "6o8o-Cv-c-oc",
        "outputId": "67776f4e-d0af-4bd0-909e-69693a9df904"
      },
      "execution_count": 52,
      "outputs": [
        {
          "output_type": "execute_result",
          "data": {
            "text/plain": [
              "((array([0, 1, 2, 3, 4, 5, 6, 7, 8, 9], dtype=uint8),\n",
              "  array([4719, 5380, 4754, 4956, 4686, 4301, 4734, 5047, 4620, 4803])),\n",
              " (array([0, 1, 2, 3, 4, 5, 6, 7, 8, 9], dtype=uint8),\n",
              "  array([1204, 1362, 1204, 1175, 1156, 1120, 1184, 1218, 1231, 1146])))"
            ]
          },
          "metadata": {},
          "execution_count": 52
        }
      ]
    },
    {
      "cell_type": "markdown",
      "source": [
        "### Data into Batches\n",
        "\n",
        "If we want to train 10K+ samples in one go.. they all might not fit into memory.\n",
        "\n",
        "So that's why we do about 32(this is the batch size) samples at a time. But here I'll consider 128 samples of one batch.\n",
        "\n",
        "**But if all the samples fit into memory then we don't need to convert them into batches.**\n",
        "\n",
        "[Resource](https://www.tensorflow.org/guide/data#reading_input_data)\n",
        "\n"
      ],
      "metadata": {
        "id": "Czs-oiq9d3px"
      }
    },
    {
      "cell_type": "code",
      "source": [
        "# Define the batch size, 128 is a good start\n",
        "BATCH_SIZE = 128\n",
        "\n",
        "def create_data_batches(X, y=None, batch_size= BATCH_SIZE, valid_data=False, test_data=False):\n",
        "  \"\"\"\n",
        "  Creates batches of data out of X and label (y) pairs.\n",
        "  Shuffles the data if it's training data but doesn't shuffle if it's validation data.\n",
        "  Also accepts test data as input\n",
        "  \"\"\"\n",
        "\n",
        "  # If the data is test dataset, we probabily don't have labels\n",
        "  if test_data:\n",
        "    print(\"Creating batches for test data....\")\n",
        "    data = tf.data.Dataset.from_tensor_slices((tf.constant(X))) \n",
        "    data_batch = data.batch(batch_size)\n",
        "    return data_batch\n",
        "  # If the data is validation set, we do have labels but we don't shuffle it\n",
        "  elif valid_data:\n",
        "    print(\"Create batches for valid data....\")\n",
        "    data = tf.data.Dataset.from_tensor_slices((tf.constant(X), tf.constant(y)))\n",
        "    data_batch = data.batch(batch_size)\n",
        "    return data_batch\n",
        "  # If the data is training set, we are shuffling the data\n",
        "  else:\n",
        "    print(\"Create batches for training data...\")\n",
        "    data = tf.data.Dataset.from_tensor_slices((tf.constant(X), tf.constant(y)))\n",
        "    # Shuffing the samples\n",
        "    data = data.shuffle(buffer_size=len(X))\n",
        "    # create data batches\n",
        "    data_batch = data.batch(batch_size)\n",
        "    return data_batch"
      ],
      "metadata": {
        "id": "l2xz2EOcfnXO"
      },
      "execution_count": 58,
      "outputs": []
    },
    {
      "cell_type": "code",
      "source": [
        "# Create training and validation data batches\n",
        "train_data = create_data_batches(X_train, y_train)\n",
        "valid_data = create_data_batches(X_valid, y_valid, valid_data=True)"
      ],
      "metadata": {
        "colab": {
          "base_uri": "https://localhost:8080/"
        },
        "id": "QJdFJ0CEmXUF",
        "outputId": "06f28583-f715-4eeb-ef82-3ad8b55492a1"
      },
      "execution_count": 59,
      "outputs": [
        {
          "output_type": "stream",
          "name": "stdout",
          "text": [
            "Create batches for training data...\n",
            "Create batches for valid data....\n"
          ]
        }
      ]
    },
    {
      "cell_type": "code",
      "source": [
        "train_data.element_spec, valid_data.element_spec"
      ],
      "metadata": {
        "colab": {
          "base_uri": "https://localhost:8080/"
        },
        "id": "0DIx5GADmpaG",
        "outputId": "bd323c6c-67e5-42b6-95ea-2213d00f2b96"
      },
      "execution_count": 60,
      "outputs": [
        {
          "output_type": "execute_result",
          "data": {
            "text/plain": [
              "((TensorSpec(shape=(None, 28, 28, 1), dtype=tf.uint8, name=None),\n",
              "  TensorSpec(shape=(None,), dtype=tf.uint8, name=None)),\n",
              " (TensorSpec(shape=(None, 28, 28, 1), dtype=tf.uint8, name=None),\n",
              "  TensorSpec(shape=(None,), dtype=tf.uint8, name=None)))"
            ]
          },
          "metadata": {},
          "execution_count": 60
        }
      ]
    },
    {
      "cell_type": "markdown",
      "source": [
        "YEAH !!!!!!!\n",
        "\n",
        "That's what we wanted. We turned them into tensors and created batches."
      ],
      "metadata": {
        "id": "opW09VhnmuqF"
      }
    },
    {
      "cell_type": "markdown",
      "source": [
        "## Modelling\n",
        "\n",
        "Before we build a model, there are few things we need to define:\n",
        "* Input shape to our model.\n",
        "* Output shape\n",
        "* Choose the right estimator/model to train."
      ],
      "metadata": {
        "id": "fADcEmmRmx5O"
      }
    },
    {
      "cell_type": "code",
      "source": [
        "# INPUT SHAPE\n",
        "INPUT_SHAPE = []\n",
        "\n",
        "# Output Shape\n",
        "OUTPUT_SHAPE = []\n",
        "\n",
        "# URL\n",
        "MODEL_URL = \"\""
      ],
      "metadata": {
        "id": "7-UqhjUvnbRm"
      },
      "execution_count": null,
      "outputs": []
    }
  ]
}